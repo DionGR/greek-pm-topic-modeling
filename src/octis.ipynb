{
 "cells": [
  {
   "cell_type": "markdown",
   "metadata": {},
   "source": [
    "# OCTIS Model Evaluation"
   ]
  },
  {
   "cell_type": "markdown",
   "metadata": {},
   "source": [
    "## Prologue & Imports"
   ]
  },
  {
   "cell_type": "markdown",
   "metadata": {},
   "source": [
    "We will evaluate the performance of most relevant OCTIS models as a baseline for non-SOTA Topic Modeling. These models will be compared on the same preprocessed dataset, the same number of topics and the same evaluation metrics."
   ]
  },
  {
   "cell_type": "code",
   "execution_count": 1,
   "metadata": {},
   "outputs": [
    {
     "name": "stderr",
     "output_type": "stream",
     "text": [
      "2024-04-04 13:10:20 INFO: Checking for updates to resources.json in case models have been updated.  Note: this behavior can be turned off with download_method=None or download_method=DownloadMethod.REUSE_RESOURCES\n"
     ]
    },
    {
     "data": {
      "application/vnd.jupyter.widget-view+json": {
       "model_id": "6470a1a5cfa7449c958791761935c8bd",
       "version_major": 2,
       "version_minor": 0
      },
      "text/plain": [
       "Downloading https://raw.githubusercontent.com/stanfordnlp/stanza-resources/main/resources_1.8.0.json:   0%|   …"
      ]
     },
     "metadata": {},
     "output_type": "display_data"
    },
    {
     "name": "stderr",
     "output_type": "stream",
     "text": [
      "2024-04-04 13:10:20 INFO: Downloaded file to /Users/dion/stanza_resources/resources.json\n",
      "2024-04-04 13:10:20 WARNING: Language el package default expects mwt, which has been added\n",
      "2024-04-04 13:10:20 INFO: Loading these models for language: el (Greek):\n",
      "=======================================\n",
      "| Processor | Package                 |\n",
      "---------------------------------------\n",
      "| tokenize  | gdt                     |\n",
      "| mwt       | gdt                     |\n",
      "| pos       | models/oct..._tagger.pt |\n",
      "| lemma     | models/oct...matizer.pt |\n",
      "=======================================\n",
      "\n",
      "2024-04-04 13:10:20 INFO: Using device: cpu\n",
      "2024-04-04 13:10:20 INFO: Loading: tokenize\n",
      "2024-04-04 13:10:21 INFO: Loading: mwt\n",
      "2024-04-04 13:10:21 INFO: Loading: pos\n",
      "2024-04-04 13:10:21 INFO: Loading: lemma\n",
      "2024-04-04 13:10:21 INFO: Done loading processors!\n"
     ]
    }
   ],
   "source": [
    "from octis.models.LSI import LSI\n",
    "from octis.models.NMF import NMF\n",
    "from octis.models.LDA import LDA\n",
    "from octis.models.HDP import HDP\n",
    "from octis.models.NeuralLDA import NeuralLDA\n",
    "from octis.models.ProdLDA import ProdLDA\n",
    "from octis.dataset.dataset import Dataset\n",
    "from octis.evaluation_metrics.coherence_metrics import Coherence\n",
    "from octis.evaluation_metrics.diversity_metrics import TopicDiversity, KLDivergence\n",
    "from octis.evaluation_metrics.similarity_metrics import RBO, PairwiseJaccardSimilarity\n",
    "from octis.evaluation_metrics.topic_significance_metrics import KL_uniform\n",
    "\n",
    "from spacy.lang.el.stop_words import STOP_WORDS as el_stop\n",
    "from spacy.lang.en.stop_words import STOP_WORDS as en_stop\n",
    "\n",
    "from utils.data_loader import GreekPMDataloader\n",
    "from models.octis.utils.preprocessor_gr import GreekStanzaPreprocessor\n",
    "from models.octis.config.preprocessing import preprocessor_gr_params\n",
    "from models.octis.config.models import NUM_TOPICS, lsi_params, nmf_params, lda_params, hdp_params, neural_lda_params, prod_lda_params\n",
    "from models.octis.config.optimization import OPTIMIZATION_RESULT_PATH, TOP_K, NUM_PROCESSES, MODEL_RUNS, search_space\n",
    "from models.octis.utils.model_evaluator import OCTISModelEvaluator\n",
    "\n",
    "import pandas as pd"
   ]
  },
  {
   "cell_type": "markdown",
   "metadata": {},
   "source": [
    "## Dataset Loading"
   ]
  },
  {
   "cell_type": "markdown",
   "metadata": {},
   "source": [
    "If our dataset has already been processed and cached, then we can load it. Otherwise, we will preprocess it and save it for future use."
   ]
  },
  {
   "cell_type": "code",
   "execution_count": 2,
   "metadata": {},
   "outputs": [
    {
     "name": "stdout",
     "output_type": "stream",
     "text": [
      "Dataset found cached - loading...\n"
     ]
    }
   ],
   "source": [
    "try:\n",
    "    dataset = Dataset()\n",
    "    dataset.load_custom_dataset_from_folder('models/octis/data/dataset')\n",
    "    print(\"Dataset found cached - loading...\")\n",
    "except:\n",
    "    print(\"Dataset not found in cache - loading...\")\n",
    "    # Merge data and prepare for preprocessing\n",
    "    try:\n",
    "        speeches_df = pd.read_csv('data/data_speeches.csv')\n",
    "        statements_df = pd.read_csv('data/data_statements.csv')\n",
    "    except: \n",
    "        print(\"GreekPM data not found - fetching...\")\n",
    "        ds = GreekPMDataloader() # If the data is not available, download it\n",
    "        cats_df = ds.load_categories(\"speeches\", \"statements\")\n",
    "        print(\"GreekPM data fetched!\")\n",
    "\n",
    "    df = pd.concat([speeches_df, statements_df], ignore_index=True)\n",
    "    \n",
    "    # Drop irrelevant columns and convert to string\n",
    "    df['text'] = df['text'].astype(str)\n",
    "    df = df.drop(columns=['date', 'id', 'url', 'title']).dropna(how='any')\n",
    "    \n",
    "    df.to_csv('data/data_merged.csv', index=False)\n",
    "\n",
    "    # We have some non-Greek stopwords in the dataset, so we need to remove them\n",
    "    stopwords = set(el_stop).union(set(en_stop))\n",
    "    \n",
    "    # Initialize preprocessing\n",
    "    preprocessor = GreekStanzaPreprocessor(\n",
    "                             stopword_list=stopwords, \n",
    "                             **preprocessor_gr_params)\n",
    "    \n",
    "    # Create the dataset\n",
    "    print(\"Preprocessing data...\")\n",
    "    dataset = preprocessor.preprocess_dataset(documents_path='data/data_merged.csv')\n",
    "    \n",
    "    dataset.save('models/octis/data/dataset/')\n",
    "    print(\"Dataset preprocessed and saved!\")"
   ]
  },
  {
   "cell_type": "code",
   "execution_count": 3,
   "metadata": {},
   "outputs": [],
   "source": [
    "corpus = dataset.get_corpus()"
   ]
  },
  {
   "cell_type": "markdown",
   "metadata": {},
   "source": [
    "## Evaluation Metrics"
   ]
  },
  {
   "cell_type": "code",
   "execution_count": 4,
   "metadata": {},
   "outputs": [],
   "source": [
    "coherence_npmi = Coherence(texts=corpus, topk=TOP_K, processes=NUM_PROCESSES, measure='c_npmi')\n",
    "coherence_cv = Coherence(texts=corpus, topk=TOP_K, processes=NUM_PROCESSES, measure='c_v')\n",
    "coherence_umass = Coherence(texts=corpus, topk=TOP_K, processes=NUM_PROCESSES, measure='u_mass')\n",
    "coherence_uci = Coherence(texts=corpus, topk=TOP_K, processes=NUM_PROCESSES, measure='c_uci')\n",
    "\n",
    "diversity_topic = TopicDiversity(topk=TOP_K)\n",
    "diversity_kl = KLDivergence()\n",
    "\n",
    "similarity_rbo = RBO(topk=TOP_K)\n",
    "similarity_pjs = PairwiseJaccardSimilarity()\n",
    "\n",
    "significance_kluni = KL_uniform()\n",
    "\n",
    "other_metrics = [coherence_npmi, coherence_umass, coherence_uci, diversity_topic, diversity_kl, similarity_rbo, similarity_pjs, significance_kluni]"
   ]
  },
  {
   "cell_type": "code",
   "execution_count": 5,
   "metadata": {},
   "outputs": [],
   "source": [
    "metrics = {\"coherence_npmi\": coherence_npmi, \"coherence_cv\": coherence_cv, \"coherence_umass\": coherence_umass, \"coherence_uci\": coherence_uci, \"diversity_topic\": diversity_topic, \"diversity_kl\": diversity_kl, \"similarity_rbo\": similarity_rbo, \"similarity_pjs\": similarity_pjs, \"significance_kluni\": significance_kluni}"
   ]
  },
  {
   "cell_type": "markdown",
   "metadata": {},
   "source": [
    "## Model Initialization"
   ]
  },
  {
   "cell_type": "code",
   "execution_count": 6,
   "metadata": {},
   "outputs": [],
   "source": [
    "lsi_model = LSI(**lsi_params)\n",
    "lda_model = LDA(**lda_params)\n",
    "hdp_model = HDP(**hdp_params)\n",
    "nmf_model = NMF(**nmf_params)\n",
    "neural_lda_model = NeuralLDA(**neural_lda_params)\n",
    "prod_lda_model = ProdLDA(**prod_lda_params)"
   ]
  },
  {
   "cell_type": "code",
   "execution_count": 7,
   "metadata": {},
   "outputs": [],
   "source": [
    "models = {\"lsi\": lsi_model, \"lda\": lda_model, \"hdp\": hdp_model, \"nmf\": nmf_model, \"neural_lda\": neural_lda_model, \"prod_lda\": prod_lda_model}"
   ]
  },
  {
   "cell_type": "markdown",
   "metadata": {},
   "source": [
    "## Evaluation"
   ]
  },
  {
   "cell_type": "code",
   "execution_count": 8,
   "metadata": {},
   "outputs": [],
   "source": [
    "evaluator = OCTISModelEvaluator(dataset=dataset, \n",
    "                                models=models,\n",
    "                                metrics=metrics,\n",
    "                                topics=NUM_TOPICS,\n",
    "                            )"
   ]
  },
  {
   "cell_type": "code",
   "execution_count": 9,
   "metadata": {},
   "outputs": [
    {
     "name": "stdout",
     "output_type": "stream",
     "text": [
      "Epoch: [1/200]\tSamples: [1439/287800]\tTrain Loss: 3593.721790305768\tTime: 0:00:00.125326\n",
      "Epoch: [1/200]\tSamples: [160/32000]\tValidation Loss: 13029800.026123047\tTime: 0:00:00.005041\n",
      "Epoch: [2/200]\tSamples: [2878/287800]\tTrain Loss: 3336.4290902970815\tTime: 0:00:00.120808\n",
      "Epoch: [2/200]\tSamples: [160/32000]\tValidation Loss: 48484.4076171875\tTime: 0:00:00.005579\n",
      "Epoch: [3/200]\tSamples: [4317/287800]\tTrain Loss: 3298.7620526407227\tTime: 0:00:00.127230\n",
      "Epoch: [3/200]\tSamples: [160/32000]\tValidation Loss: 28776.44453125\tTime: 0:00:00.005969\n",
      "Epoch: [4/200]\tSamples: [5756/287800]\tTrain Loss: 3264.2737523888118\tTime: 0:00:00.129160\n",
      "Epoch: [4/200]\tSamples: [160/32000]\tValidation Loss: 4067.3076171875\tTime: 0:00:00.005848\n",
      "Epoch: [5/200]\tSamples: [7195/287800]\tTrain Loss: 3234.6218402536483\tTime: 0:00:00.116676\n",
      "Epoch: [5/200]\tSamples: [160/32000]\tValidation Loss: 3651.5060546875\tTime: 0:00:00.005718\n",
      "Epoch: [6/200]\tSamples: [8634/287800]\tTrain Loss: 3215.978109798471\tTime: 0:00:00.125299\n",
      "Epoch: [6/200]\tSamples: [160/32000]\tValidation Loss: 3159.127099609375\tTime: 0:00:00.005126\n",
      "Epoch: [7/200]\tSamples: [10073/287800]\tTrain Loss: 3184.3092533877693\tTime: 0:00:00.105853\n",
      "Epoch: [7/200]\tSamples: [160/32000]\tValidation Loss: 3159.14140625\tTime: 0:00:00.005122\n",
      "Epoch: [8/200]\tSamples: [11512/287800]\tTrain Loss: 3164.2774170430853\tTime: 0:00:00.105833\n",
      "Epoch: [8/200]\tSamples: [160/32000]\tValidation Loss: 3082.45419921875\tTime: 0:00:00.005710\n",
      "Epoch: [9/200]\tSamples: [12951/287800]\tTrain Loss: 3152.9175642807504\tTime: 0:00:00.106774\n",
      "Epoch: [9/200]\tSamples: [160/32000]\tValidation Loss: 3145.25908203125\tTime: 0:00:00.007518\n",
      "Epoch: [10/200]\tSamples: [14390/287800]\tTrain Loss: 3135.8686859364143\tTime: 0:00:00.117114\n",
      "Epoch: [10/200]\tSamples: [160/32000]\tValidation Loss: 3082.881103515625\tTime: 0:00:00.004700\n",
      "Epoch: [11/200]\tSamples: [15829/287800]\tTrain Loss: 3127.5748729586517\tTime: 0:00:00.103874\n",
      "Epoch: [11/200]\tSamples: [160/32000]\tValidation Loss: 3000.1987548828124\tTime: 0:00:00.004996\n",
      "Epoch: [12/200]\tSamples: [17268/287800]\tTrain Loss: 3118.113126520153\tTime: 0:00:00.119483\n",
      "Epoch: [12/200]\tSamples: [160/32000]\tValidation Loss: 2993.029443359375\tTime: 0:00:00.006911\n",
      "Epoch: [13/200]\tSamples: [18707/287800]\tTrain Loss: 3109.1585953787353\tTime: 0:00:00.111857\n",
      "Epoch: [13/200]\tSamples: [160/32000]\tValidation Loss: 2973.8435546875\tTime: 0:00:00.005673\n",
      "Epoch: [14/200]\tSamples: [20146/287800]\tTrain Loss: 3111.858452050035\tTime: 0:00:00.111118\n",
      "Epoch: [14/200]\tSamples: [160/32000]\tValidation Loss: 2976.1239990234376\tTime: 0:00:00.004563\n",
      "Epoch: [15/200]\tSamples: [21585/287800]\tTrain Loss: 3094.6657781011118\tTime: 0:00:00.103460\n",
      "Epoch: [15/200]\tSamples: [160/32000]\tValidation Loss: 2970.8412109375\tTime: 0:00:00.007360\n",
      "Epoch: [16/200]\tSamples: [23024/287800]\tTrain Loss: 3101.2424480976374\tTime: 0:00:00.098556\n",
      "Epoch: [16/200]\tSamples: [160/32000]\tValidation Loss: 2964.595654296875\tTime: 0:00:00.004475\n",
      "Epoch: [17/200]\tSamples: [24463/287800]\tTrain Loss: 3085.093207088256\tTime: 0:00:00.101943\n",
      "Epoch: [17/200]\tSamples: [160/32000]\tValidation Loss: 2961.070068359375\tTime: 0:00:00.006886\n",
      "Epoch: [18/200]\tSamples: [25902/287800]\tTrain Loss: 3085.7157911309937\tTime: 0:00:00.100179\n",
      "Epoch: [18/200]\tSamples: [160/32000]\tValidation Loss: 3004.9509765625\tTime: 0:00:00.005564\n",
      "Epoch: [19/200]\tSamples: [27341/287800]\tTrain Loss: 3078.33999305073\tTime: 0:00:00.104629\n",
      "Epoch: [19/200]\tSamples: [160/32000]\tValidation Loss: 2953.450390625\tTime: 0:00:00.005713\n",
      "Epoch: [20/200]\tSamples: [28780/287800]\tTrain Loss: 3069.975509251216\tTime: 0:00:00.101410\n",
      "Epoch: [20/200]\tSamples: [160/32000]\tValidation Loss: 2957.53056640625\tTime: 0:00:00.004694\n",
      "Epoch: [21/200]\tSamples: [30219/287800]\tTrain Loss: 3065.4206805941626\tTime: 0:00:00.103282\n",
      "Epoch: [21/200]\tSamples: [160/32000]\tValidation Loss: 2948.415283203125\tTime: 0:00:00.004420\n",
      "Epoch: [22/200]\tSamples: [31658/287800]\tTrain Loss: 3065.815160267547\tTime: 0:00:00.102562\n",
      "Epoch: [22/200]\tSamples: [160/32000]\tValidation Loss: 2938.680322265625\tTime: 0:00:00.006406\n",
      "Epoch: [23/200]\tSamples: [33097/287800]\tTrain Loss: 3054.9096051945794\tTime: 0:00:00.100307\n",
      "Epoch: [23/200]\tSamples: [160/32000]\tValidation Loss: 2938.7615234375\tTime: 0:00:00.005578\n",
      "Epoch: [24/200]\tSamples: [34536/287800]\tTrain Loss: 3049.339053813412\tTime: 0:00:00.103154\n",
      "Epoch: [24/200]\tSamples: [160/32000]\tValidation Loss: 2927.372998046875\tTime: 0:00:00.005485\n",
      "Epoch: [25/200]\tSamples: [35975/287800]\tTrain Loss: 3046.147677423558\tTime: 0:00:00.115155\n",
      "Epoch: [25/200]\tSamples: [160/32000]\tValidation Loss: 2927.89443359375\tTime: 0:00:00.004723\n",
      "Epoch: [26/200]\tSamples: [37414/287800]\tTrain Loss: 3042.0178020760945\tTime: 0:00:00.112426\n",
      "Epoch: [26/200]\tSamples: [160/32000]\tValidation Loss: 2918.19716796875\tTime: 0:00:00.006513\n",
      "Epoch: [27/200]\tSamples: [38853/287800]\tTrain Loss: 3036.651097767547\tTime: 0:00:00.120802\n",
      "Epoch: [27/200]\tSamples: [160/32000]\tValidation Loss: 2919.77060546875\tTime: 0:00:00.004781\n",
      "Epoch: [28/200]\tSamples: [40292/287800]\tTrain Loss: 3033.628447489576\tTime: 0:00:00.111100\n",
      "Epoch: [28/200]\tSamples: [160/32000]\tValidation Loss: 2918.456396484375\tTime: 0:00:00.007242\n",
      "Epoch: [29/200]\tSamples: [41731/287800]\tTrain Loss: 3036.0684394544824\tTime: 0:00:00.103927\n",
      "Epoch: [29/200]\tSamples: [160/32000]\tValidation Loss: 2916.35859375\tTime: 0:00:00.004927\n",
      "Epoch: [30/200]\tSamples: [43170/287800]\tTrain Loss: 3029.390842164698\tTime: 0:00:00.110358\n",
      "Epoch: [30/200]\tSamples: [160/32000]\tValidation Loss: 2908.868115234375\tTime: 0:00:00.005161\n",
      "Epoch: [31/200]\tSamples: [44609/287800]\tTrain Loss: 3038.6699313759555\tTime: 0:00:00.106868\n",
      "Epoch: [31/200]\tSamples: [160/32000]\tValidation Loss: 2908.2431884765624\tTime: 0:00:00.006936\n",
      "Epoch: [32/200]\tSamples: [46048/287800]\tTrain Loss: 3023.104825399583\tTime: 0:00:00.104913\n",
      "Epoch: [32/200]\tSamples: [160/32000]\tValidation Loss: 2913.59033203125\tTime: 0:00:00.005031\n",
      "Epoch: [33/200]\tSamples: [47487/287800]\tTrain Loss: 3019.7944753300903\tTime: 0:00:00.106170\n",
      "Epoch: [33/200]\tSamples: [160/32000]\tValidation Loss: 2910.22919921875\tTime: 0:00:00.005505\n",
      "Epoch: [34/200]\tSamples: [48926/287800]\tTrain Loss: 3014.645212604239\tTime: 0:00:00.097583\n",
      "Epoch: [34/200]\tSamples: [160/32000]\tValidation Loss: 2907.735546875\tTime: 0:00:00.005638\n",
      "Epoch: [35/200]\tSamples: [50365/287800]\tTrain Loss: 3014.058661613968\tTime: 0:00:00.116214\n",
      "Epoch: [35/200]\tSamples: [160/32000]\tValidation Loss: 2898.58720703125\tTime: 0:00:00.006624\n",
      "Epoch: [36/200]\tSamples: [51804/287800]\tTrain Loss: 3014.6928531097983\tTime: 0:00:00.108540\n",
      "Epoch: [36/200]\tSamples: [160/32000]\tValidation Loss: 2894.1972412109376\tTime: 0:00:00.004902\n",
      "Epoch: [37/200]\tSamples: [53243/287800]\tTrain Loss: 3008.152867659833\tTime: 0:00:00.103737\n",
      "Epoch: [37/200]\tSamples: [160/32000]\tValidation Loss: 2894.132763671875\tTime: 0:00:00.004806\n",
      "Epoch: [38/200]\tSamples: [54682/287800]\tTrain Loss: 3009.6188189497916\tTime: 0:00:00.112700\n",
      "Epoch: [38/200]\tSamples: [160/32000]\tValidation Loss: 2889.425341796875\tTime: 0:00:00.005492\n",
      "Epoch: [39/200]\tSamples: [56121/287800]\tTrain Loss: 3006.679844944406\tTime: 0:00:00.114159\n",
      "Epoch: [39/200]\tSamples: [160/32000]\tValidation Loss: 2888.91728515625\tTime: 0:00:00.005263\n",
      "Epoch: [40/200]\tSamples: [57560/287800]\tTrain Loss: 3043.060132904795\tTime: 0:00:00.102261\n",
      "Epoch: [40/200]\tSamples: [160/32000]\tValidation Loss: 2891.5802734375\tTime: 0:00:00.005136\n",
      "Epoch: [41/200]\tSamples: [58999/287800]\tTrain Loss: 3008.961550990271\tTime: 0:00:00.107417\n",
      "Epoch: [41/200]\tSamples: [160/32000]\tValidation Loss: 2889.604296875\tTime: 0:00:00.006350\n",
      "Epoch: [42/200]\tSamples: [60438/287800]\tTrain Loss: 3020.6405815670605\tTime: 0:00:00.102353\n",
      "Epoch: [42/200]\tSamples: [160/32000]\tValidation Loss: 2882.621337890625\tTime: 0:00:00.004799\n",
      "Epoch: [43/200]\tSamples: [61877/287800]\tTrain Loss: 3011.926451746004\tTime: 0:00:00.142242\n",
      "Epoch: [43/200]\tSamples: [160/32000]\tValidation Loss: 2891.62099609375\tTime: 0:00:00.005856\n",
      "Epoch: [44/200]\tSamples: [63316/287800]\tTrain Loss: 2997.3470671907576\tTime: 0:00:00.124797\n",
      "Epoch: [44/200]\tSamples: [160/32000]\tValidation Loss: 2893.7712890625\tTime: 0:00:00.006721\n",
      "Epoch: [45/200]\tSamples: [64755/287800]\tTrain Loss: 3011.375542911744\tTime: 0:00:00.123589\n",
      "Epoch: [45/200]\tSamples: [160/32000]\tValidation Loss: 2896.654833984375\tTime: 0:00:00.007371\n",
      "Epoch: [46/200]\tSamples: [66194/287800]\tTrain Loss: 3007.7559068797777\tTime: 0:00:00.118536\n",
      "Epoch: [46/200]\tSamples: [160/32000]\tValidation Loss: 2895.8380859375\tTime: 0:00:00.005829\n",
      "Epoch: [47/200]\tSamples: [67633/287800]\tTrain Loss: 2994.944709867964\tTime: 0:00:00.128334\n",
      "Epoch: [47/200]\tSamples: [160/32000]\tValidation Loss: 2892.2197265625\tTime: 0:00:00.006223\n",
      "Early stopping\n",
      "Epoch: [1/50]\tSamples: [1439/71950]\tTrain Loss: 3663.1780641938844\tTime: 0:00:00.110056\n",
      "Epoch: [1/50]\tSamples: [160/8000]\tValidation Loss: 28860.09873046875\tTime: 0:00:00.004855\n",
      "Epoch: [2/50]\tSamples: [2878/71950]\tTrain Loss: 3436.9228956740794\tTime: 0:00:00.103352\n",
      "Epoch: [2/50]\tSamples: [160/8000]\tValidation Loss: 40989.5865234375\tTime: 0:00:00.006564\n",
      "Epoch: [3/50]\tSamples: [4317/71950]\tTrain Loss: 3306.5110536831135\tTime: 0:00:00.108013\n",
      "Epoch: [3/50]\tSamples: [160/8000]\tValidation Loss: 3196.408154296875\tTime: 0:00:00.006280\n",
      "Epoch: [4/50]\tSamples: [5756/71950]\tTrain Loss: 3301.9225047776235\tTime: 0:00:00.041069\n",
      "Epoch: [4/50]\tSamples: [160/8000]\tValidation Loss: 3134.62978515625\tTime: 0:00:00.005545\n",
      "Epoch: [5/50]\tSamples: [7195/71950]\tTrain Loss: 3258.9179443189714\tTime: 0:00:00.105481\n",
      "Epoch: [5/50]\tSamples: [160/8000]\tValidation Loss: 3187.82958984375\tTime: 0:00:00.006561\n",
      "Epoch: [6/50]\tSamples: [8634/71950]\tTrain Loss: 3227.143665305768\tTime: 0:00:00.101382\n",
      "Epoch: [6/50]\tSamples: [160/8000]\tValidation Loss: 3388.46640625\tTime: 0:00:00.004892\n",
      "Epoch: [7/50]\tSamples: [10073/71950]\tTrain Loss: 3253.2364163481584\tTime: 0:00:00.108549\n",
      "Epoch: [7/50]\tSamples: [160/8000]\tValidation Loss: 3234.44501953125\tTime: 0:00:00.004965\n",
      "Epoch: [8/50]\tSamples: [11512/71950]\tTrain Loss: 3226.1197337560807\tTime: 0:00:00.094786\n",
      "Epoch: [8/50]\tSamples: [160/8000]\tValidation Loss: 3386.270849609375\tTime: 0:00:00.006195\n",
      "Epoch: [9/50]\tSamples: [12951/71950]\tTrain Loss: 3187.5716806375954\tTime: 0:00:00.098380\n",
      "Epoch: [9/50]\tSamples: [160/8000]\tValidation Loss: 3429.329296875\tTime: 0:00:00.006051\n",
      "Early stopping\n"
     ]
    },
    {
     "name": "stderr",
     "output_type": "stream",
     "text": [
      "/Users/dion/Library/CloudStorage/GoogleDrive-dion.rigatos@gmail.com/My Drive/Archivio/University/Classes/Erasmus Courses/NLP/NLP Project/greek-pm-topic-modeling/src/models/octis/utils/model_evaluator.py:40: FutureWarning: The behavior of DataFrame concatenation with empty or all-NA entries is deprecated. In a future version, this will no longer exclude empty or all-NA columns when determining the result dtypes. To retain the old behavior, exclude the relevant entries before the concat operation.\n",
      "  self.evaluation_df = pd.concat([self.evaluation_df, pd.DataFrame(model_metric_data)], ignore_index=True)\n",
      "/Users/dion/.pyenv/versions/3.11.8/envs/nlp-env/lib/python3.11/site-packages/octis/evaluation_metrics/diversity_metrics.py:244: RuntimeWarning: invalid value encountered in log\n",
      "  divergence = np.sum(P*np.log(P/Q))\n",
      "/Users/dion/.pyenv/versions/3.11.8/envs/nlp-env/lib/python3.11/site-packages/octis/evaluation_metrics/topic_significance_metrics.py:24: RuntimeWarning: invalid value encountered in log\n",
      "  divergence = np.sum(P*np.log(P/Q))\n"
     ]
    },
    {
     "data": {
      "text/html": [
       "<div>\n",
       "<style scoped>\n",
       "    .dataframe tbody tr th:only-of-type {\n",
       "        vertical-align: middle;\n",
       "    }\n",
       "\n",
       "    .dataframe tbody tr th {\n",
       "        vertical-align: top;\n",
       "    }\n",
       "\n",
       "    .dataframe thead th {\n",
       "        text-align: right;\n",
       "    }\n",
       "</style>\n",
       "<table border=\"1\" class=\"dataframe\">\n",
       "  <thead>\n",
       "    <tr style=\"text-align: right;\">\n",
       "      <th></th>\n",
       "      <th>model</th>\n",
       "      <th>coherence_npmi</th>\n",
       "      <th>coherence_cv</th>\n",
       "      <th>coherence_umass</th>\n",
       "      <th>coherence_uci</th>\n",
       "      <th>diversity_topic</th>\n",
       "      <th>diversity_kl</th>\n",
       "      <th>similarity_rbo</th>\n",
       "      <th>similarity_pjs</th>\n",
       "      <th>significance_kluni</th>\n",
       "    </tr>\n",
       "  </thead>\n",
       "  <tbody>\n",
       "    <tr>\n",
       "      <th>0</th>\n",
       "      <td>lsi</td>\n",
       "      <td>0.025822</td>\n",
       "      <td>0.582263</td>\n",
       "      <td>-1.516653</td>\n",
       "      <td>-0.935678</td>\n",
       "      <td>0.533333</td>\n",
       "      <td>0.384095</td>\n",
       "      <td>0.056447</td>\n",
       "      <td>0.038196</td>\n",
       "      <td>0.190040</td>\n",
       "    </tr>\n",
       "    <tr>\n",
       "      <th>1</th>\n",
       "      <td>lda</td>\n",
       "      <td>0.117067</td>\n",
       "      <td>0.667146</td>\n",
       "      <td>-1.598522</td>\n",
       "      <td>0.107879</td>\n",
       "      <td>0.853333</td>\n",
       "      <td>2.153887</td>\n",
       "      <td>0.010465</td>\n",
       "      <td>0.011710</td>\n",
       "      <td>1.492638</td>\n",
       "    </tr>\n",
       "    <tr>\n",
       "      <th>2</th>\n",
       "      <td>hdp</td>\n",
       "      <td>-0.040979</td>\n",
       "      <td>0.522805</td>\n",
       "      <td>-2.122732</td>\n",
       "      <td>-2.438911</td>\n",
       "      <td>0.544000</td>\n",
       "      <td>0.361930</td>\n",
       "      <td>0.016473</td>\n",
       "      <td>0.013814</td>\n",
       "      <td>0.215275</td>\n",
       "    </tr>\n",
       "    <tr>\n",
       "      <th>3</th>\n",
       "      <td>nmf</td>\n",
       "      <td>0.074141</td>\n",
       "      <td>0.612678</td>\n",
       "      <td>-1.730387</td>\n",
       "      <td>-0.215376</td>\n",
       "      <td>0.620000</td>\n",
       "      <td>4.057629</td>\n",
       "      <td>0.032771</td>\n",
       "      <td>0.026870</td>\n",
       "      <td>2.055155</td>\n",
       "    </tr>\n",
       "    <tr>\n",
       "      <th>4</th>\n",
       "      <td>neural_lda</td>\n",
       "      <td>0.024296</td>\n",
       "      <td>0.579743</td>\n",
       "      <td>-1.491620</td>\n",
       "      <td>-0.625234</td>\n",
       "      <td>1.000000</td>\n",
       "      <td>1.419801</td>\n",
       "      <td>0.000000</td>\n",
       "      <td>0.001385</td>\n",
       "      <td>0.814589</td>\n",
       "    </tr>\n",
       "    <tr>\n",
       "      <th>5</th>\n",
       "      <td>prod_lda</td>\n",
       "      <td>-0.103901</td>\n",
       "      <td>0.510238</td>\n",
       "      <td>-2.329315</td>\n",
       "      <td>-4.011837</td>\n",
       "      <td>0.873333</td>\n",
       "      <td>NaN</td>\n",
       "      <td>0.008438</td>\n",
       "      <td>0.008270</td>\n",
       "      <td>NaN</td>\n",
       "    </tr>\n",
       "  </tbody>\n",
       "</table>\n",
       "</div>"
      ],
      "text/plain": [
       "        model  coherence_npmi  coherence_cv  coherence_umass  coherence_uci  \\\n",
       "0         lsi        0.025822      0.582263        -1.516653      -0.935678   \n",
       "1         lda        0.117067      0.667146        -1.598522       0.107879   \n",
       "2         hdp       -0.040979      0.522805        -2.122732      -2.438911   \n",
       "3         nmf        0.074141      0.612678        -1.730387      -0.215376   \n",
       "4  neural_lda        0.024296      0.579743        -1.491620      -0.625234   \n",
       "5    prod_lda       -0.103901      0.510238        -2.329315      -4.011837   \n",
       "\n",
       "   diversity_topic  diversity_kl  similarity_rbo  similarity_pjs  \\\n",
       "0         0.533333      0.384095        0.056447        0.038196   \n",
       "1         0.853333      2.153887        0.010465        0.011710   \n",
       "2         0.544000      0.361930        0.016473        0.013814   \n",
       "3         0.620000      4.057629        0.032771        0.026870   \n",
       "4         1.000000      1.419801        0.000000        0.001385   \n",
       "5         0.873333           NaN        0.008438        0.008270   \n",
       "\n",
       "   significance_kluni  \n",
       "0            0.190040  \n",
       "1            1.492638  \n",
       "2            0.215275  \n",
       "3            2.055155  \n",
       "4            0.814589  \n",
       "5                 NaN  "
      ]
     },
     "execution_count": 9,
     "metadata": {},
     "output_type": "execute_result"
    }
   ],
   "source": [
    "evaluator.evaluate()"
   ]
  }
 ],
 "metadata": {
  "kernelspec": {
   "display_name": "nlp-env",
   "language": "python",
   "name": "python3"
  },
  "language_info": {
   "codemirror_mode": {
    "name": "ipython",
    "version": 3
   },
   "file_extension": ".py",
   "mimetype": "text/x-python",
   "name": "python",
   "nbconvert_exporter": "python",
   "pygments_lexer": "ipython3",
   "version": "3.11.8"
  }
 },
 "nbformat": 4,
 "nbformat_minor": 2
}
