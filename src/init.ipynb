{
 "cells": [
  {
   "cell_type": "code",
   "execution_count": 1,
   "outputs": [],
   "source": [
    "%load_ext autoreload\n",
    "%autoreload 2"
   ],
   "metadata": {
    "collapsed": false,
    "ExecuteTime": {
     "end_time": "2024-03-30T12:57:52.977273Z",
     "start_time": "2024-03-30T12:57:52.897804200Z"
    }
   }
  },
  {
   "cell_type": "code",
   "execution_count": 17,
   "outputs": [],
   "source": [
    "from data_loader.data_loader import GreekPMDataloader\n",
    "import pandas as pd"
   ],
   "metadata": {
    "collapsed": false,
    "ExecuteTime": {
     "end_time": "2024-03-30T14:01:10.532088900Z",
     "start_time": "2024-03-30T14:01:10.421099900Z"
    }
   }
  },
  {
   "cell_type": "code",
   "execution_count": 3,
   "metadata": {
    "ExecuteTime": {
     "end_time": "2024-03-30T12:58:05.136763300Z",
     "start_time": "2024-03-30T12:58:05.001569100Z"
    }
   },
   "outputs": [
    {
     "data": {
      "text/plain": "['statements',\n 'speeches',\n 'letters',\n 'articles',\n 'addresses',\n 'op-eds-interviews',\n 'press-releases',\n 'press-conferences']"
     },
     "execution_count": 3,
     "metadata": {},
     "output_type": "execute_result"
    }
   ],
   "source": [
    "ds = GreekPMDataloader()\n",
    "\n",
    "data = ds.get_available_categories()\n",
    "data"
   ]
  },
  {
   "cell_type": "code",
   "execution_count": 5,
   "metadata": {
    "ExecuteTime": {
     "end_time": "2024-03-30T13:50:52.325713500Z",
     "start_time": "2024-03-30T13:50:28.049535Z"
    }
   },
   "outputs": [
    {
     "name": "stdout",
     "output_type": "stream",
     "text": [
      "Cached data found for speeches, loading CSV...\n",
      "Cached data found for statements, loading CSV...\n"
     ]
    }
   ],
   "source": [
    "cats_df = ds.load_categories(\"speeches\", \"statements\")"
   ]
  }
 ],
 "metadata": {
  "kernelspec": {
   "display_name": "nlp-env",
   "language": "python",
   "name": "python3"
  },
  "language_info": {
   "codemirror_mode": {
    "name": "ipython",
    "version": 3
   },
   "file_extension": ".py",
   "mimetype": "text/x-python",
   "name": "python",
   "nbconvert_exporter": "python",
   "pygments_lexer": "ipython3",
   "version": "3.11.8"
  }
 },
 "nbformat": 4,
 "nbformat_minor": 2
}
