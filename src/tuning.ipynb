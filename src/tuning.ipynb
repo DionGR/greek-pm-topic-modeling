{
 "cells": [
  {
   "cell_type": "markdown",
   "source": [
    "# Finding best hyperparameters for BERTopic model"
   ],
   "metadata": {
    "collapsed": false
   },
   "id": "a671e359e5d8c5b9"
  },
  {
   "cell_type": "markdown",
   "source": [
    "In this notebook we will try to find the best hyperparameters for our BERTopic model, by trying different configurations of UMAP and HDBSCAN models. Then we will evaluate each model based on both standard evaluation metrics and manual inspection of the topics created. "
   ],
   "metadata": {
    "collapsed": false
   },
   "id": "cdb7bb6e08577a63"
  },
  {
   "cell_type": "code",
   "execution_count": null,
   "id": "initial_id",
   "metadata": {
    "collapsed": true
   },
   "outputs": [],
   "source": [
    "from bertopic import BERTopic\n",
    "from models.bertopic.utils.data_loader import DataLoader\n",
    "from sklearn.feature_extraction.text import CountVectorizer\n",
    "\n",
    "from models.bertopic.utils.bertopic_evaluator import BERTopicModelEvaluator\n",
    "\n",
    "from models.bertopic.config.model import (STOPWORDS, NUM_TOPICS, TOP_K, EMBEDDING_MODEL, metrics,\n",
    "                                          umap_configs_dc, hdbscan_configs_dc, umap_configs_sc, \n",
    "                                          hdbscan_configs_sc, dim_models, cluster_models) \n",
    "\n",
    "from umap import UMAP\n",
    "from hdbscan import HDBSCAN\n",
    "from bertopic.vectorizers import ClassTfidfTransformer"
   ]
  },
  {
   "cell_type": "markdown",
   "source": [],
   "metadata": {
    "collapsed": false
   },
   "id": "78c93368a1d49d2e"
  },
  {
   "cell_type": "code",
   "execution_count": null,
   "outputs": [],
   "source": [
    "loader = DataLoader('data/data_speeches.csv', 'data/data_statements.csv')\n",
    "loader.process()\n",
    "\n",
    "train_docs, train_sentences = loader.get_train_data()\n",
    "test_docs, test_sentences = loader.get_test_data()\n",
    "val_docs, val_sentences = loader.get_val_data()"
   ],
   "metadata": {
    "collapsed": false
   },
   "id": "129e722882e061e4"
  },
  {
   "cell_type": "code",
   "execution_count": null,
   "outputs": [],
   "source": [
    "datasets = {\n",
    "    'docs': train_docs,\n",
    "    # 'sentences': train_sentences\n",
    "}"
   ],
   "metadata": {
    "collapsed": false
   },
   "id": "483df0325a7c35cf"
  },
  {
   "cell_type": "code",
   "execution_count": null,
   "outputs": [],
   "source": [
    "vectorizer_model = CountVectorizer(stop_words=STOPWORDS,\n",
    "                                   ngram_range=(1, 2))\n",
    "\n",
    "ctfidf_model = ClassTfidfTransformer(reduce_frequent_words=True)"
   ],
   "metadata": {
    "collapsed": false
   },
   "id": "504e80f2c0e4d0be"
  },
  {
   "cell_type": "markdown",
   "source": [
    "Evaluating different UMAP and HDBSCAN configurations"
   ],
   "metadata": {
    "collapsed": false
   },
   "id": "5c3d7c61fc44f47d"
  },
  {
   "cell_type": "code",
   "execution_count": null,
   "outputs": [],
   "source": [
    "models = {}\n",
    "\n",
    "for umap_config in umap_configs_dc:\n",
    "    for hdbscan_config in hdbscan_configs_dc:\n",
    "        \n",
    "        model_name = f\"model_umap_{umap_config}_hdbscan_{hdbscan_config}_docs\"\n",
    "        \n",
    "        umap_model = UMAP(**umap_config)\n",
    "        hdbscan_model = HDBSCAN(**hdbscan_config, gen_min_span_tree=True, prediction_data=True)\n",
    "\n",
    "        \n",
    "        model = BERTopic(\n",
    "            umap_model=umap_model,\n",
    "            hdbscan_model=hdbscan_model,\n",
    "            embedding_model=EMBEDDING_MODEL,\n",
    "            vectorizer_model=vectorizer_model,\n",
    "            ctfidf_model=ctfidf_model,\n",
    "            nr_topics=30,\n",
    "            top_n_words=10,\n",
    "            n_gram_range=(1,2)\n",
    "        )\n",
    "        \n",
    "        models[model_name] = model"
   ],
   "metadata": {
    "collapsed": false
   },
   "id": "f93a287cb8fdeb5d"
  },
  {
   "cell_type": "code",
   "execution_count": null,
   "outputs": [],
   "source": [
    "evaluator = BERTopicModelEvaluator(models=models, \n",
    "                                   metrics=metrics, \n",
    "                                   datasets=datasets,\n",
    "                                   topics=NUM_TOPICS)"
   ],
   "metadata": {
    "collapsed": false
   },
   "id": "d68dba14b84c67bf"
  },
  {
   "cell_type": "code",
   "execution_count": null,
   "outputs": [],
   "source": [
    "evaluator.evaluate()"
   ],
   "metadata": {
    "collapsed": false
   },
   "id": "5aeb14361500f3ad"
  },
  {
   "cell_type": "markdown",
   "source": [
    "Testing different models for dimensionality reduction and clustering"
   ],
   "metadata": {
    "collapsed": false
   },
   "id": "bb48c7d80b81355f"
  },
  {
   "cell_type": "code",
   "execution_count": null,
   "outputs": [],
   "source": [
    "models = {}\n",
    "\n",
    "for dim_model_name, dim_model in dim_models.items():\n",
    "    for cluster_model_name, cluster_model in cluster_models.items():\n",
    "        \n",
    "        model_name = f\"model_dim_{dim_model_name}_cluster_{cluster_model_name}_docs\"\n",
    "        \n",
    "        \n",
    "        model = BERTopic(\n",
    "            umap_model=dim_model,\n",
    "            hdbscan_model=cluster_model,\n",
    "            embedding_model=EMBEDDING_MODEL,\n",
    "            vectorizer_model=vectorizer_model,\n",
    "            ctfidf_model=ctfidf_model,\n",
    "            nr_topics=30,\n",
    "            top_n_words=10,\n",
    "            n_gram_range=(1,2)\n",
    "        )\n",
    "        \n",
    "        models[model_name] = model"
   ],
   "metadata": {
    "collapsed": false
   },
   "id": "332705b30ae0b54c"
  },
  {
   "cell_type": "code",
   "execution_count": null,
   "outputs": [],
   "source": [
    "evaluator = BERTopicModelEvaluator(models=models, \n",
    "                                   metrics=metrics, \n",
    "                                   datasets=datasets,\n",
    "                                   topics=NUM_TOPICS)\n",
    "\n",
    "evaluator.evaluate()"
   ],
   "metadata": {
    "collapsed": false
   },
   "id": "a88caeaf1ed2409d"
  }
 ],
 "metadata": {
  "kernelspec": {
   "display_name": "Python 3",
   "language": "python",
   "name": "python3"
  },
  "language_info": {
   "codemirror_mode": {
    "name": "ipython",
    "version": 2
   },
   "file_extension": ".py",
   "mimetype": "text/x-python",
   "name": "python",
   "nbconvert_exporter": "python",
   "pygments_lexer": "ipython2",
   "version": "2.7.6"
  }
 },
 "nbformat": 4,
 "nbformat_minor": 5
}
