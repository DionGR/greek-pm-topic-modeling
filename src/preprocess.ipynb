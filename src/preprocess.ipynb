{
 "cells": [
  {
   "cell_type": "code",
   "execution_count": 1,
   "id": "initial_id",
   "metadata": {
    "collapsed": true,
    "ExecuteTime": {
     "end_time": "2024-03-30T14:10:05.261502300Z",
     "start_time": "2024-03-30T14:10:03.728426100Z"
    }
   },
   "outputs": [],
   "source": [
    "from data_loader.data_loader import GreekPMDataloader\n",
    "import pandas as pd"
   ]
  },
  {
   "cell_type": "code",
   "execution_count": 34,
   "outputs": [
    {
     "name": "stdout",
     "output_type": "stream",
     "text": [
      "Cached data found for speeches, loading CSV...\n",
      "Cached data found for statements, loading CSV...\n"
     ]
    }
   ],
   "source": [
    "ds = GreekPMDataloader()\n",
    "cats_df = ds.load_categories(\"speeches\", \"statements\")"
   ],
   "metadata": {
    "collapsed": false,
    "ExecuteTime": {
     "end_time": "2024-03-30T15:36:45.669143900Z",
     "start_time": "2024-03-30T15:36:28.717872700Z"
    }
   },
   "id": "17d297a940202a16"
  },
  {
   "cell_type": "code",
   "execution_count": 40,
   "outputs": [
    {
     "data": {
      "text/plain": "         date     id                                            url  \\\n0  2024-03-29  33935  https://www.primeminister.gr/2024/03/29/33935   \n1  2024-03-26  33928  https://www.primeminister.gr/2024/03/26/33928   \n2  2024-03-26  33923  https://www.primeminister.gr/2024/03/26/33923   \n3  2024-03-25  33916  https://www.primeminister.gr/2024/03/25/33916   \n4  2024-03-20  33866  https://www.primeminister.gr/2024/03/20/33866   \n\n                                               title  \\\n0  Ομιλία του Πρωθυπουργού Κυριάκου Μητσοτάκη στη...   \n1  Ομιλία του Πρωθυπουργού Κυριάκου Μητσοτάκη σε ...   \n2  Συζήτηση του Πρωθυπουργού Κυριάκου Μητσοτάκη μ...   \n3  Ομιλία του Πρωθυπουργού Κυριάκου Μητσοτάκη σε ...   \n4  Παρέμβαση του Πρωθυπουργού Κυριάκου Μητσοτάκη,...   \n\n                                                text  category  \n0  Κύριε Πρόεδρε, κυρίες και κύριοι βουλευτές, Πρ...  speeches  \n1  Ο Πρωθυπουργός παρέστη και μίλησε σε ομογενεια...  speeches  \n2  Nik Nanos: Είχαμε δύο υπέροχες ηλιόλουστες ημέ...  speeches  \n3  Ο Πρωθυπουργός Κυριάκος Μητσοτάκης έλαβε μέρος...  speeches  \n4  Συνάδελφοι, αγαπητοί φίλοι, είναι τιμή που μου...  speeches  ",
      "text/html": "<div>\n<style scoped>\n    .dataframe tbody tr th:only-of-type {\n        vertical-align: middle;\n    }\n\n    .dataframe tbody tr th {\n        vertical-align: top;\n    }\n\n    .dataframe thead th {\n        text-align: right;\n    }\n</style>\n<table border=\"1\" class=\"dataframe\">\n  <thead>\n    <tr style=\"text-align: right;\">\n      <th></th>\n      <th>date</th>\n      <th>id</th>\n      <th>url</th>\n      <th>title</th>\n      <th>text</th>\n      <th>category</th>\n    </tr>\n  </thead>\n  <tbody>\n    <tr>\n      <th>0</th>\n      <td>2024-03-29</td>\n      <td>33935</td>\n      <td>https://www.primeminister.gr/2024/03/29/33935</td>\n      <td>Ομιλία του Πρωθυπουργού Κυριάκου Μητσοτάκη στη...</td>\n      <td>Κύριε Πρόεδρε, κυρίες και κύριοι βουλευτές, Πρ...</td>\n      <td>speeches</td>\n    </tr>\n    <tr>\n      <th>1</th>\n      <td>2024-03-26</td>\n      <td>33928</td>\n      <td>https://www.primeminister.gr/2024/03/26/33928</td>\n      <td>Ομιλία του Πρωθυπουργού Κυριάκου Μητσοτάκη σε ...</td>\n      <td>Ο Πρωθυπουργός παρέστη και μίλησε σε ομογενεια...</td>\n      <td>speeches</td>\n    </tr>\n    <tr>\n      <th>2</th>\n      <td>2024-03-26</td>\n      <td>33923</td>\n      <td>https://www.primeminister.gr/2024/03/26/33923</td>\n      <td>Συζήτηση του Πρωθυπουργού Κυριάκου Μητσοτάκη μ...</td>\n      <td>Nik Nanos: Είχαμε δύο υπέροχες ηλιόλουστες ημέ...</td>\n      <td>speeches</td>\n    </tr>\n    <tr>\n      <th>3</th>\n      <td>2024-03-25</td>\n      <td>33916</td>\n      <td>https://www.primeminister.gr/2024/03/25/33916</td>\n      <td>Ομιλία του Πρωθυπουργού Κυριάκου Μητσοτάκη σε ...</td>\n      <td>Ο Πρωθυπουργός Κυριάκος Μητσοτάκης έλαβε μέρος...</td>\n      <td>speeches</td>\n    </tr>\n    <tr>\n      <th>4</th>\n      <td>2024-03-20</td>\n      <td>33866</td>\n      <td>https://www.primeminister.gr/2024/03/20/33866</td>\n      <td>Παρέμβαση του Πρωθυπουργού Κυριάκου Μητσοτάκη,...</td>\n      <td>Συνάδελφοι, αγαπητοί φίλοι, είναι τιμή που μου...</td>\n      <td>speeches</td>\n    </tr>\n  </tbody>\n</table>\n</div>"
     },
     "execution_count": 40,
     "metadata": {},
     "output_type": "execute_result"
    }
   ],
   "source": [
    "for category, df in cats_df.items():\n",
    "    df['category'] = category\n",
    "all_data = pd.concat(cats_df.values())\n",
    "all_data = all_data.reset_index(drop=True)\n",
    "all_data.head()"
   ],
   "metadata": {
    "collapsed": false,
    "ExecuteTime": {
     "end_time": "2024-03-30T15:44:25.757689900Z",
     "start_time": "2024-03-30T15:44:25.738796100Z"
    }
   },
   "id": "9bb4c13049faa8fd"
  },
  {
   "cell_type": "markdown",
   "source": [
    "## Spacy processing"
   ],
   "metadata": {
    "collapsed": false
   },
   "id": "45ac35c33afd813f"
  },
  {
   "cell_type": "code",
   "execution_count": 41,
   "outputs": [],
   "source": [
    "all_data['text'] = all_data['text'].astype(str)"
   ],
   "metadata": {
    "collapsed": false,
    "ExecuteTime": {
     "end_time": "2024-03-30T15:44:32.608263200Z",
     "start_time": "2024-03-30T15:44:32.605068100Z"
    }
   },
   "id": "7a6477308275afa1"
  },
  {
   "cell_type": "code",
   "execution_count": 42,
   "outputs": [],
   "source": [
    "import spacy\n",
    "import advertools as adv\n",
    "from spacy.lang.el.examples import sentences \n",
    "\n",
    "nlp = spacy.load(\"el_core_news_sm\")\n",
    "\n",
    "stopwords = adv.stopwords['greek']\n",
    "\n",
    "def preprocess_text(text):\n",
    "    if isinstance(text, str):\n",
    "        doc = nlp(text)\n",
    "        tokens = [token.lemma_.lower() for token in doc if not token.is_punct and not token.is_space and token.text.lower() not in stopwords]\n",
    "        return tokens\n",
    "    else:\n",
    "        return []\n",
    "    "
   ],
   "metadata": {
    "collapsed": false,
    "ExecuteTime": {
     "end_time": "2024-03-30T15:44:35.250312Z",
     "start_time": "2024-03-30T15:44:34.808097900Z"
    }
   },
   "id": "1a3e11913da8e2a7"
  },
  {
   "cell_type": "code",
   "execution_count": 43,
   "outputs": [
    {
     "data": {
      "text/plain": "         date     id                                            url  \\\n0  2024-03-29  33935  https://www.primeminister.gr/2024/03/29/33935   \n1  2024-03-26  33928  https://www.primeminister.gr/2024/03/26/33928   \n2  2024-03-26  33923  https://www.primeminister.gr/2024/03/26/33923   \n3  2024-03-25  33916  https://www.primeminister.gr/2024/03/25/33916   \n4  2024-03-20  33866  https://www.primeminister.gr/2024/03/20/33866   \n\n                                               title  \\\n0  Ομιλία του Πρωθυπουργού Κυριάκου Μητσοτάκη στη...   \n1  Ομιλία του Πρωθυπουργού Κυριάκου Μητσοτάκη σε ...   \n2  Συζήτηση του Πρωθυπουργού Κυριάκου Μητσοτάκη μ...   \n3  Ομιλία του Πρωθυπουργού Κυριάκου Μητσοτάκη σε ...   \n4  Παρέμβαση του Πρωθυπουργού Κυριάκου Μητσοτάκη,...   \n\n                                                text  category  \\\n0  Κύριε Πρόεδρε, κυρίες και κύριοι βουλευτές, Πρ...  speeches   \n1  Ο Πρωθυπουργός παρέστη και μίλησε σε ομογενεια...  speeches   \n2  Nik Nanos: Είχαμε δύο υπέροχες ηλιόλουστες ημέ...  speeches   \n3  Ο Πρωθυπουργός Κυριάκος Μητσοτάκης έλαβε μέρος...  speeches   \n4  Συνάδελφοι, αγαπητοί φίλοι, είναι τιμή που μου...  speeches   \n\n                                      processed_text  \n0  [κύριος, πρόεδρος, κυρία, κύριος, βουλευτής, π...  \n1  [πρωθυπουργός, παρέστη, μίλησε, ομογενειακός, ...  \n2  [nik, nanos, δύο, υπέροχος, ηλιόλουστα, ημέρα,...  \n3  [πρωθυπουργός, κυριάκος, μητσοτάκης, λαμβάνω, ...  \n4  [συνάδελφος, αγαπητός, φίλος, τιμή, δίνω, ευκα...  ",
      "text/html": "<div>\n<style scoped>\n    .dataframe tbody tr th:only-of-type {\n        vertical-align: middle;\n    }\n\n    .dataframe tbody tr th {\n        vertical-align: top;\n    }\n\n    .dataframe thead th {\n        text-align: right;\n    }\n</style>\n<table border=\"1\" class=\"dataframe\">\n  <thead>\n    <tr style=\"text-align: right;\">\n      <th></th>\n      <th>date</th>\n      <th>id</th>\n      <th>url</th>\n      <th>title</th>\n      <th>text</th>\n      <th>category</th>\n      <th>processed_text</th>\n    </tr>\n  </thead>\n  <tbody>\n    <tr>\n      <th>0</th>\n      <td>2024-03-29</td>\n      <td>33935</td>\n      <td>https://www.primeminister.gr/2024/03/29/33935</td>\n      <td>Ομιλία του Πρωθυπουργού Κυριάκου Μητσοτάκη στη...</td>\n      <td>Κύριε Πρόεδρε, κυρίες και κύριοι βουλευτές, Πρ...</td>\n      <td>speeches</td>\n      <td>[κύριος, πρόεδρος, κυρία, κύριος, βουλευτής, π...</td>\n    </tr>\n    <tr>\n      <th>1</th>\n      <td>2024-03-26</td>\n      <td>33928</td>\n      <td>https://www.primeminister.gr/2024/03/26/33928</td>\n      <td>Ομιλία του Πρωθυπουργού Κυριάκου Μητσοτάκη σε ...</td>\n      <td>Ο Πρωθυπουργός παρέστη και μίλησε σε ομογενεια...</td>\n      <td>speeches</td>\n      <td>[πρωθυπουργός, παρέστη, μίλησε, ομογενειακός, ...</td>\n    </tr>\n    <tr>\n      <th>2</th>\n      <td>2024-03-26</td>\n      <td>33923</td>\n      <td>https://www.primeminister.gr/2024/03/26/33923</td>\n      <td>Συζήτηση του Πρωθυπουργού Κυριάκου Μητσοτάκη μ...</td>\n      <td>Nik Nanos: Είχαμε δύο υπέροχες ηλιόλουστες ημέ...</td>\n      <td>speeches</td>\n      <td>[nik, nanos, δύο, υπέροχος, ηλιόλουστα, ημέρα,...</td>\n    </tr>\n    <tr>\n      <th>3</th>\n      <td>2024-03-25</td>\n      <td>33916</td>\n      <td>https://www.primeminister.gr/2024/03/25/33916</td>\n      <td>Ομιλία του Πρωθυπουργού Κυριάκου Μητσοτάκη σε ...</td>\n      <td>Ο Πρωθυπουργός Κυριάκος Μητσοτάκης έλαβε μέρος...</td>\n      <td>speeches</td>\n      <td>[πρωθυπουργός, κυριάκος, μητσοτάκης, λαμβάνω, ...</td>\n    </tr>\n    <tr>\n      <th>4</th>\n      <td>2024-03-20</td>\n      <td>33866</td>\n      <td>https://www.primeminister.gr/2024/03/20/33866</td>\n      <td>Παρέμβαση του Πρωθυπουργού Κυριάκου Μητσοτάκη,...</td>\n      <td>Συνάδελφοι, αγαπητοί φίλοι, είναι τιμή που μου...</td>\n      <td>speeches</td>\n      <td>[συνάδελφος, αγαπητός, φίλος, τιμή, δίνω, ευκα...</td>\n    </tr>\n  </tbody>\n</table>\n</div>"
     },
     "execution_count": 43,
     "metadata": {},
     "output_type": "execute_result"
    }
   ],
   "source": [
    "all_data['processed_text'] = all_data['text'].apply(preprocess_text)\n",
    "all_data.head()"
   ],
   "metadata": {
    "collapsed": false,
    "ExecuteTime": {
     "end_time": "2024-03-30T15:48:55.608562700Z",
     "start_time": "2024-03-30T15:44:38.061451700Z"
    }
   },
   "id": "b8069aedf3c9b0cf"
  },
  {
   "cell_type": "code",
   "execution_count": 46,
   "outputs": [
    {
     "data": {
      "text/plain": "         date     id                                              title  \\\n0  2024-03-29  33935  Ομιλία του Πρωθυπουργού Κυριάκου Μητσοτάκη στη...   \n1  2024-03-26  33928  Ομιλία του Πρωθυπουργού Κυριάκου Μητσοτάκη σε ...   \n2  2024-03-26  33923  Συζήτηση του Πρωθυπουργού Κυριάκου Μητσοτάκη μ...   \n3  2024-03-25  33916  Ομιλία του Πρωθυπουργού Κυριάκου Μητσοτάκη σε ...   \n4  2024-03-20  33866  Παρέμβαση του Πρωθυπουργού Κυριάκου Μητσοτάκη,...   \n\n   category                                     processed_text  \n0  speeches  [κύριος, πρόεδρος, κυρία, κύριος, βουλευτής, π...  \n1  speeches  [πρωθυπουργός, παρέστη, μίλησε, ομογενειακός, ...  \n2  speeches  [nik, nanos, δύο, υπέροχος, ηλιόλουστα, ημέρα,...  \n3  speeches  [πρωθυπουργός, κυριάκος, μητσοτάκης, λαμβάνω, ...  \n4  speeches  [συνάδελφος, αγαπητός, φίλος, τιμή, δίνω, ευκα...  ",
      "text/html": "<div>\n<style scoped>\n    .dataframe tbody tr th:only-of-type {\n        vertical-align: middle;\n    }\n\n    .dataframe tbody tr th {\n        vertical-align: top;\n    }\n\n    .dataframe thead th {\n        text-align: right;\n    }\n</style>\n<table border=\"1\" class=\"dataframe\">\n  <thead>\n    <tr style=\"text-align: right;\">\n      <th></th>\n      <th>date</th>\n      <th>id</th>\n      <th>title</th>\n      <th>category</th>\n      <th>processed_text</th>\n    </tr>\n  </thead>\n  <tbody>\n    <tr>\n      <th>0</th>\n      <td>2024-03-29</td>\n      <td>33935</td>\n      <td>Ομιλία του Πρωθυπουργού Κυριάκου Μητσοτάκη στη...</td>\n      <td>speeches</td>\n      <td>[κύριος, πρόεδρος, κυρία, κύριος, βουλευτής, π...</td>\n    </tr>\n    <tr>\n      <th>1</th>\n      <td>2024-03-26</td>\n      <td>33928</td>\n      <td>Ομιλία του Πρωθυπουργού Κυριάκου Μητσοτάκη σε ...</td>\n      <td>speeches</td>\n      <td>[πρωθυπουργός, παρέστη, μίλησε, ομογενειακός, ...</td>\n    </tr>\n    <tr>\n      <th>2</th>\n      <td>2024-03-26</td>\n      <td>33923</td>\n      <td>Συζήτηση του Πρωθυπουργού Κυριάκου Μητσοτάκη μ...</td>\n      <td>speeches</td>\n      <td>[nik, nanos, δύο, υπέροχος, ηλιόλουστα, ημέρα,...</td>\n    </tr>\n    <tr>\n      <th>3</th>\n      <td>2024-03-25</td>\n      <td>33916</td>\n      <td>Ομιλία του Πρωθυπουργού Κυριάκου Μητσοτάκη σε ...</td>\n      <td>speeches</td>\n      <td>[πρωθυπουργός, κυριάκος, μητσοτάκης, λαμβάνω, ...</td>\n    </tr>\n    <tr>\n      <th>4</th>\n      <td>2024-03-20</td>\n      <td>33866</td>\n      <td>Παρέμβαση του Πρωθυπουργού Κυριάκου Μητσοτάκη,...</td>\n      <td>speeches</td>\n      <td>[συνάδελφος, αγαπητός, φίλος, τιμή, δίνω, ευκα...</td>\n    </tr>\n  </tbody>\n</table>\n</div>"
     },
     "execution_count": 46,
     "metadata": {},
     "output_type": "execute_result"
    }
   ],
   "source": [
    "all_data = all_data.drop(columns=['url', 'text'])"
   ],
   "metadata": {
    "collapsed": false,
    "ExecuteTime": {
     "end_time": "2024-03-30T16:34:06.938831500Z",
     "start_time": "2024-03-30T16:34:06.923279300Z"
    }
   },
   "id": "d458b6aa082de51d"
  }
 ],
 "metadata": {
  "kernelspec": {
   "display_name": "Python 3",
   "language": "python",
   "name": "python3"
  },
  "language_info": {
   "codemirror_mode": {
    "name": "ipython",
    "version": 2
   },
   "file_extension": ".py",
   "mimetype": "text/x-python",
   "name": "python",
   "nbconvert_exporter": "python",
   "pygments_lexer": "ipython2",
   "version": "2.7.6"
  }
 },
 "nbformat": 4,
 "nbformat_minor": 5
}
