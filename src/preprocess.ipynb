{
 "cells": [
  {
   "cell_type": "code",
   "execution_count": 2,
   "id": "initial_id",
   "metadata": {
    "ExecuteTime": {
     "end_time": "2024-03-30T14:10:05.261502300Z",
     "start_time": "2024-03-30T14:10:03.728426100Z"
    },
    "collapsed": true
   },
   "outputs": [],
   "source": [
    "from data_loader.data_loader import GreekPMDataloader\n",
    "import pandas as pd"
   ]
  },
  {
   "cell_type": "code",
   "execution_count": 3,
   "id": "6f008d21",
   "metadata": {},
   "outputs": [],
   "source": [
    "from greek_stemmer import stemmer"
   ]
  },
  {
   "cell_type": "code",
   "execution_count": 4,
   "id": "17d297a940202a16",
   "metadata": {
    "ExecuteTime": {
     "end_time": "2024-03-30T15:36:45.669143900Z",
     "start_time": "2024-03-30T15:36:28.717872700Z"
    },
    "collapsed": false
   },
   "outputs": [
    {
     "name": "stdout",
     "output_type": "stream",
     "text": [
      "Cached data found for speeches, loading CSV...\n",
      "Cached data found for statements, loading CSV...\n"
     ]
    }
   ],
   "source": [
    "ds = GreekPMDataloader()\n",
    "cats_df = ds.load_categories(\"speeches\", \"statements\")"
   ]
  },
  {
   "cell_type": "code",
   "execution_count": 40,
   "id": "9bb4c13049faa8fd",
   "metadata": {
    "ExecuteTime": {
     "end_time": "2024-03-30T15:44:25.757689900Z",
     "start_time": "2024-03-30T15:44:25.738796100Z"
    },
    "collapsed": false
   },
   "outputs": [
    {
     "data": {
      "text/html": [
       "<div>\n",
       "<style scoped>\n",
       "    .dataframe tbody tr th:only-of-type {\n",
       "        vertical-align: middle;\n",
       "    }\n",
       "\n",
       "    .dataframe tbody tr th {\n",
       "        vertical-align: top;\n",
       "    }\n",
       "\n",
       "    .dataframe thead th {\n",
       "        text-align: right;\n",
       "    }\n",
       "</style>\n",
       "<table border=\"1\" class=\"dataframe\">\n",
       "  <thead>\n",
       "    <tr style=\"text-align: right;\">\n",
       "      <th></th>\n",
       "      <th>date</th>\n",
       "      <th>id</th>\n",
       "      <th>url</th>\n",
       "      <th>title</th>\n",
       "      <th>text</th>\n",
       "      <th>category</th>\n",
       "    </tr>\n",
       "  </thead>\n",
       "  <tbody>\n",
       "    <tr>\n",
       "      <th>0</th>\n",
       "      <td>2024-03-29</td>\n",
       "      <td>33935</td>\n",
       "      <td>https://www.primeminister.gr/2024/03/29/33935</td>\n",
       "      <td>Ομιλία του Πρωθυπουργού Κυριάκου Μητσοτάκη στη...</td>\n",
       "      <td>Κύριε Πρόεδρε, κυρίες και κύριοι βουλευτές, Πρ...</td>\n",
       "      <td>speeches</td>\n",
       "    </tr>\n",
       "    <tr>\n",
       "      <th>1</th>\n",
       "      <td>2024-03-26</td>\n",
       "      <td>33928</td>\n",
       "      <td>https://www.primeminister.gr/2024/03/26/33928</td>\n",
       "      <td>Ομιλία του Πρωθυπουργού Κυριάκου Μητσοτάκη σε ...</td>\n",
       "      <td>Ο Πρωθυπουργός παρέστη και μίλησε σε ομογενεια...</td>\n",
       "      <td>speeches</td>\n",
       "    </tr>\n",
       "    <tr>\n",
       "      <th>2</th>\n",
       "      <td>2024-03-26</td>\n",
       "      <td>33923</td>\n",
       "      <td>https://www.primeminister.gr/2024/03/26/33923</td>\n",
       "      <td>Συζήτηση του Πρωθυπουργού Κυριάκου Μητσοτάκη μ...</td>\n",
       "      <td>Nik Nanos: Είχαμε δύο υπέροχες ηλιόλουστες ημέ...</td>\n",
       "      <td>speeches</td>\n",
       "    </tr>\n",
       "    <tr>\n",
       "      <th>3</th>\n",
       "      <td>2024-03-25</td>\n",
       "      <td>33916</td>\n",
       "      <td>https://www.primeminister.gr/2024/03/25/33916</td>\n",
       "      <td>Ομιλία του Πρωθυπουργού Κυριάκου Μητσοτάκη σε ...</td>\n",
       "      <td>Ο Πρωθυπουργός Κυριάκος Μητσοτάκης έλαβε μέρος...</td>\n",
       "      <td>speeches</td>\n",
       "    </tr>\n",
       "    <tr>\n",
       "      <th>4</th>\n",
       "      <td>2024-03-20</td>\n",
       "      <td>33866</td>\n",
       "      <td>https://www.primeminister.gr/2024/03/20/33866</td>\n",
       "      <td>Παρέμβαση του Πρωθυπουργού Κυριάκου Μητσοτάκη,...</td>\n",
       "      <td>Συνάδελφοι, αγαπητοί φίλοι, είναι τιμή που μου...</td>\n",
       "      <td>speeches</td>\n",
       "    </tr>\n",
       "  </tbody>\n",
       "</table>\n",
       "</div>"
      ],
      "text/plain": [
       "         date     id                                            url  \\\n",
       "0  2024-03-29  33935  https://www.primeminister.gr/2024/03/29/33935   \n",
       "1  2024-03-26  33928  https://www.primeminister.gr/2024/03/26/33928   \n",
       "2  2024-03-26  33923  https://www.primeminister.gr/2024/03/26/33923   \n",
       "3  2024-03-25  33916  https://www.primeminister.gr/2024/03/25/33916   \n",
       "4  2024-03-20  33866  https://www.primeminister.gr/2024/03/20/33866   \n",
       "\n",
       "                                               title  \\\n",
       "0  Ομιλία του Πρωθυπουργού Κυριάκου Μητσοτάκη στη...   \n",
       "1  Ομιλία του Πρωθυπουργού Κυριάκου Μητσοτάκη σε ...   \n",
       "2  Συζήτηση του Πρωθυπουργού Κυριάκου Μητσοτάκη μ...   \n",
       "3  Ομιλία του Πρωθυπουργού Κυριάκου Μητσοτάκη σε ...   \n",
       "4  Παρέμβαση του Πρωθυπουργού Κυριάκου Μητσοτάκη,...   \n",
       "\n",
       "                                                text  category  \n",
       "0  Κύριε Πρόεδρε, κυρίες και κύριοι βουλευτές, Πρ...  speeches  \n",
       "1  Ο Πρωθυπουργός παρέστη και μίλησε σε ομογενεια...  speeches  \n",
       "2  Nik Nanos: Είχαμε δύο υπέροχες ηλιόλουστες ημέ...  speeches  \n",
       "3  Ο Πρωθυπουργός Κυριάκος Μητσοτάκης έλαβε μέρος...  speeches  \n",
       "4  Συνάδελφοι, αγαπητοί φίλοι, είναι τιμή που μου...  speeches  "
      ]
     },
     "execution_count": 40,
     "metadata": {},
     "output_type": "execute_result"
    }
   ],
   "source": [
    "for category, df in cats_df.items():\n",
    "    df['category'] = category\n",
    "    \n",
    "all_data = pd.concat(cats_df.values())\n",
    "all_data = all_data.reset_index(drop=True)\n",
    "all_data.head()"
   ]
  },
  {
   "cell_type": "markdown",
   "id": "45ac35c33afd813f",
   "metadata": {
    "collapsed": false
   },
   "source": [
    "## Spacy processing"
   ]
  },
  {
   "cell_type": "code",
   "execution_count": 41,
   "id": "7a6477308275afa1",
   "metadata": {
    "ExecuteTime": {
     "end_time": "2024-03-30T15:44:32.608263200Z",
     "start_time": "2024-03-30T15:44:32.605068100Z"
    },
    "collapsed": false
   },
   "outputs": [],
   "source": [
    "all_data['text'] = all_data['text'].astype(str)"
   ]
  },
  {
   "cell_type": "code",
   "execution_count": 42,
   "id": "1a3e11913da8e2a7",
   "metadata": {
    "ExecuteTime": {
     "end_time": "2024-03-30T15:44:35.250312Z",
     "start_time": "2024-03-30T15:44:34.808097900Z"
    },
    "collapsed": false
   },
   "outputs": [],
   "source": [
    "import spacy\n",
    "import advertools as adv\n",
    "from spacy.lang.el.examples import sentences \n",
    "\n",
    "nlp = spacy.load(\"el_core_news_sm\")\n",
    "\n",
    "stopwords = adv.stopwords['greek']\n",
    "\n",
    "def preprocess_text(text):\n",
    "    if isinstance(text, str):\n",
    "        doc = nlp(text)\n",
    "        tokens = [token.lemma_.lower() for token in doc if not token.is_punct and not token.is_space and token.text.lower() not in stopwords]\n",
    "        return tokens\n",
    "    else:\n",
    "        return []\n",
    "    "
   ]
  },
  {
   "cell_type": "code",
   "execution_count": 43,
   "id": "b8069aedf3c9b0cf",
   "metadata": {
    "ExecuteTime": {
     "end_time": "2024-03-30T15:48:55.608562700Z",
     "start_time": "2024-03-30T15:44:38.061451700Z"
    },
    "collapsed": false
   },
   "outputs": [
    {
     "data": {
      "text/html": [
       "<div>\n",
       "<style scoped>\n",
       "    .dataframe tbody tr th:only-of-type {\n",
       "        vertical-align: middle;\n",
       "    }\n",
       "\n",
       "    .dataframe tbody tr th {\n",
       "        vertical-align: top;\n",
       "    }\n",
       "\n",
       "    .dataframe thead th {\n",
       "        text-align: right;\n",
       "    }\n",
       "</style>\n",
       "<table border=\"1\" class=\"dataframe\">\n",
       "  <thead>\n",
       "    <tr style=\"text-align: right;\">\n",
       "      <th></th>\n",
       "      <th>date</th>\n",
       "      <th>id</th>\n",
       "      <th>url</th>\n",
       "      <th>title</th>\n",
       "      <th>text</th>\n",
       "      <th>category</th>\n",
       "      <th>processed_text</th>\n",
       "    </tr>\n",
       "  </thead>\n",
       "  <tbody>\n",
       "    <tr>\n",
       "      <th>0</th>\n",
       "      <td>2024-03-29</td>\n",
       "      <td>33935</td>\n",
       "      <td>https://www.primeminister.gr/2024/03/29/33935</td>\n",
       "      <td>Ομιλία του Πρωθυπουργού Κυριάκου Μητσοτάκη στη...</td>\n",
       "      <td>Κύριε Πρόεδρε, κυρίες και κύριοι βουλευτές, Πρ...</td>\n",
       "      <td>speeches</td>\n",
       "      <td>[κύριος, πρόεδρος, κυρία, κύριος, βουλευτής, π...</td>\n",
       "    </tr>\n",
       "    <tr>\n",
       "      <th>1</th>\n",
       "      <td>2024-03-26</td>\n",
       "      <td>33928</td>\n",
       "      <td>https://www.primeminister.gr/2024/03/26/33928</td>\n",
       "      <td>Ομιλία του Πρωθυπουργού Κυριάκου Μητσοτάκη σε ...</td>\n",
       "      <td>Ο Πρωθυπουργός παρέστη και μίλησε σε ομογενεια...</td>\n",
       "      <td>speeches</td>\n",
       "      <td>[πρωθυπουργός, παρέστη, μίλησε, ομογενειακός, ...</td>\n",
       "    </tr>\n",
       "    <tr>\n",
       "      <th>2</th>\n",
       "      <td>2024-03-26</td>\n",
       "      <td>33923</td>\n",
       "      <td>https://www.primeminister.gr/2024/03/26/33923</td>\n",
       "      <td>Συζήτηση του Πρωθυπουργού Κυριάκου Μητσοτάκη μ...</td>\n",
       "      <td>Nik Nanos: Είχαμε δύο υπέροχες ηλιόλουστες ημέ...</td>\n",
       "      <td>speeches</td>\n",
       "      <td>[nik, nanos, δύο, υπέροχος, ηλιόλουστα, ημέρα,...</td>\n",
       "    </tr>\n",
       "    <tr>\n",
       "      <th>3</th>\n",
       "      <td>2024-03-25</td>\n",
       "      <td>33916</td>\n",
       "      <td>https://www.primeminister.gr/2024/03/25/33916</td>\n",
       "      <td>Ομιλία του Πρωθυπουργού Κυριάκου Μητσοτάκη σε ...</td>\n",
       "      <td>Ο Πρωθυπουργός Κυριάκος Μητσοτάκης έλαβε μέρος...</td>\n",
       "      <td>speeches</td>\n",
       "      <td>[πρωθυπουργός, κυριάκος, μητσοτάκης, λαμβάνω, ...</td>\n",
       "    </tr>\n",
       "    <tr>\n",
       "      <th>4</th>\n",
       "      <td>2024-03-20</td>\n",
       "      <td>33866</td>\n",
       "      <td>https://www.primeminister.gr/2024/03/20/33866</td>\n",
       "      <td>Παρέμβαση του Πρωθυπουργού Κυριάκου Μητσοτάκη,...</td>\n",
       "      <td>Συνάδελφοι, αγαπητοί φίλοι, είναι τιμή που μου...</td>\n",
       "      <td>speeches</td>\n",
       "      <td>[συνάδελφος, αγαπητός, φίλος, τιμή, δίνω, ευκα...</td>\n",
       "    </tr>\n",
       "  </tbody>\n",
       "</table>\n",
       "</div>"
      ],
      "text/plain": [
       "         date     id                                            url  \\\n",
       "0  2024-03-29  33935  https://www.primeminister.gr/2024/03/29/33935   \n",
       "1  2024-03-26  33928  https://www.primeminister.gr/2024/03/26/33928   \n",
       "2  2024-03-26  33923  https://www.primeminister.gr/2024/03/26/33923   \n",
       "3  2024-03-25  33916  https://www.primeminister.gr/2024/03/25/33916   \n",
       "4  2024-03-20  33866  https://www.primeminister.gr/2024/03/20/33866   \n",
       "\n",
       "                                               title  \\\n",
       "0  Ομιλία του Πρωθυπουργού Κυριάκου Μητσοτάκη στη...   \n",
       "1  Ομιλία του Πρωθυπουργού Κυριάκου Μητσοτάκη σε ...   \n",
       "2  Συζήτηση του Πρωθυπουργού Κυριάκου Μητσοτάκη μ...   \n",
       "3  Ομιλία του Πρωθυπουργού Κυριάκου Μητσοτάκη σε ...   \n",
       "4  Παρέμβαση του Πρωθυπουργού Κυριάκου Μητσοτάκη,...   \n",
       "\n",
       "                                                text  category  \\\n",
       "0  Κύριε Πρόεδρε, κυρίες και κύριοι βουλευτές, Πρ...  speeches   \n",
       "1  Ο Πρωθυπουργός παρέστη και μίλησε σε ομογενεια...  speeches   \n",
       "2  Nik Nanos: Είχαμε δύο υπέροχες ηλιόλουστες ημέ...  speeches   \n",
       "3  Ο Πρωθυπουργός Κυριάκος Μητσοτάκης έλαβε μέρος...  speeches   \n",
       "4  Συνάδελφοι, αγαπητοί φίλοι, είναι τιμή που μου...  speeches   \n",
       "\n",
       "                                      processed_text  \n",
       "0  [κύριος, πρόεδρος, κυρία, κύριος, βουλευτής, π...  \n",
       "1  [πρωθυπουργός, παρέστη, μίλησε, ομογενειακός, ...  \n",
       "2  [nik, nanos, δύο, υπέροχος, ηλιόλουστα, ημέρα,...  \n",
       "3  [πρωθυπουργός, κυριάκος, μητσοτάκης, λαμβάνω, ...  \n",
       "4  [συνάδελφος, αγαπητός, φίλος, τιμή, δίνω, ευκα...  "
      ]
     },
     "execution_count": 43,
     "metadata": {},
     "output_type": "execute_result"
    }
   ],
   "source": [
    "all_data['processed_text'] = all_data['text'].apply(preprocess_text)\n",
    "all_data.head()"
   ]
  },
  {
   "cell_type": "code",
   "execution_count": 1,
   "id": "d458b6aa082de51d",
   "metadata": {
    "ExecuteTime": {
     "end_time": "2024-03-30T16:34:06.938831500Z",
     "start_time": "2024-03-30T16:34:06.923279300Z"
    },
    "collapsed": false
   },
   "outputs": [
    {
     "ename": "NameError",
     "evalue": "name 'all_data' is not defined",
     "output_type": "error",
     "traceback": [
      "\u001b[0;31m---------------------------------------------------------------------------\u001b[0m",
      "\u001b[0;31mNameError\u001b[0m                                 Traceback (most recent call last)",
      "Cell \u001b[0;32mIn[1], line 1\u001b[0m\n\u001b[0;32m----> 1\u001b[0m all_data \u001b[38;5;241m=\u001b[39m \u001b[43mall_data\u001b[49m\u001b[38;5;241m.\u001b[39mdrop(columns\u001b[38;5;241m=\u001b[39m[\u001b[38;5;124m'\u001b[39m\u001b[38;5;124murl\u001b[39m\u001b[38;5;124m'\u001b[39m, \u001b[38;5;124m'\u001b[39m\u001b[38;5;124mtext\u001b[39m\u001b[38;5;124m'\u001b[39m, \u001b[38;5;124m'\u001b[39m\u001b[38;5;124mid\u001b[39m\u001b[38;5;124m'\u001b[39m])\n",
      "\u001b[0;31mNameError\u001b[0m: name 'all_data' is not defined"
     ]
    }
   ],
   "source": [
    "all_data = all_data.drop(columns=['url', 'text', 'id'])"
   ]
  }
 ],
 "metadata": {
  "kernelspec": {
   "display_name": "Python 3",
   "language": "python",
   "name": "python3"
  },
  "language_info": {
   "codemirror_mode": {
    "name": "ipython",
    "version": 3
   },
   "file_extension": ".py",
   "mimetype": "text/x-python",
   "name": "python",
   "nbconvert_exporter": "python",
   "pygments_lexer": "ipython3",
   "version": "3.11.8"
  }
 },
 "nbformat": 4,
 "nbformat_minor": 5
}
