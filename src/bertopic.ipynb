{
 "cells": [
  {
   "cell_type": "code",
   "execution_count": 1,
   "id": "initial_id",
   "metadata": {
    "collapsed": true,
    "ExecuteTime": {
     "end_time": "2024-04-06T14:16:21.171304200Z",
     "start_time": "2024-04-06T14:16:00.909375600Z"
    }
   },
   "outputs": [],
   "source": [
    "import pandas as pd\n",
    "from bertopic import BERTopic\n",
    "from sentence_transformers import SentenceTransformer\n",
    "from nltk.tokenize import sent_tokenize\n",
    "from models.bertopic.utils.data_loader import DataLoader\n",
    "from sklearn.feature_extraction.text import CountVectorizer\n",
    "\n",
    "from spacy.lang.el.stop_words import STOP_WORDS as el_stop\n",
    "from spacy.lang.en.stop_words import STOP_WORDS as en_stop\n",
    "\n",
    "from octis.evaluation_metrics.coherence_metrics import Coherence\n",
    "from octis.evaluation_metrics.diversity_metrics import TopicDiversity, KLDivergence\n",
    "from octis.evaluation_metrics.similarity_metrics import RBO, PairwiseJaccardSimilarity\n",
    "from octis.evaluation_metrics.topic_significance_metrics import KL_uniform"
   ]
  },
  {
   "cell_type": "markdown",
   "source": [
    "## Data, embeddings and sentence transformers loading"
   ],
   "metadata": {
    "collapsed": false
   },
   "id": "57ad672e88f445f4"
  },
  {
   "cell_type": "code",
   "execution_count": 12,
   "outputs": [],
   "source": [
    "# TODO: Add embeddings for multilingual sentence transformer"
   ],
   "metadata": {
    "collapsed": false,
    "ExecuteTime": {
     "end_time": "2024-04-06T14:24:39.313485400Z",
     "start_time": "2024-04-06T14:24:39.305963Z"
    }
   },
   "id": "c225c3c8d522230c"
  },
  {
   "cell_type": "code",
   "execution_count": 22,
   "outputs": [],
   "source": [
    "loader = DataLoader('data/data_speeches.csv', 'data/data_statements.csv')\n",
    "loader.process()\n",
    "\n",
    "docs = loader.get_docs()\n",
    "sentences = loader.get_sentences()\n",
    "\n",
    "docs_corpus = [[doc] for doc in docs]\n",
    "sentences_corpus = [[sentence] for sentence in sentences]\n",
    "\n",
    "embeddings_gr = loader.load_embeddings(\"models/bertopic/data/checkpoint/embeddings/embeddings_gr.pkl\")\n",
    "embeddings_gr_media = loader.load_embeddings(\"models/bertopic/data/checkpoint/embeddings/embeddings_gr_media.pkl\")\n",
    "embeddings_gr_sentences = loader.load_embeddings(\"models/bertopic/data/checkpoint/embeddings/embeddings_gr_sentences.pkl\")\n",
    "embeddings_gr_media_sentences = loader.load_embeddings(\"models/bertopic/data/checkpoint/embeddings/embeddings_gr_media_sentences.pkl\")\n",
    "\n",
    "st_greek = SentenceTransformer('lighteternal/stsb-xlm-r-greek-transfer')\n",
    "st_greek_media = SentenceTransformer('dimitriz/st-greek-media-bert-base-uncased')"
   ],
   "metadata": {
    "collapsed": false,
    "ExecuteTime": {
     "end_time": "2024-04-06T15:15:43.932771900Z",
     "start_time": "2024-04-06T15:15:29.789149Z"
    }
   },
   "id": "c91c40a93d4d6485"
  },
  {
   "cell_type": "code",
   "execution_count": 21,
   "outputs": [
    {
     "name": "stdout",
     "output_type": "stream",
     "text": [
      "['Κύριε Πρόεδρε κυρίες και κύριοι βουλευτές Προσέρχομαι στη σημερινή συζήτηση θεωρώντας την τραγωδία των Τεμπών ένα ζήτημα πολύ μεγαλύτερο πολύ βαθύτερο από απλή αφορμή για την κατάθεση έστω και μίας πρότασης δυσπιστίας κατά της κυβέρνησης όπως το θέλησαν δηλαδή τα κόμματα που την προκάλεσαν.', 'Γι’ αυτό και θα μιλήσω περισσότερο για την αλήθεια γύρω από αυτό το δυστύχημα το οποίο τόσο πλήγωσε την πατρίδα μας σύμφωνα τουλάχιστον πάντα με τη δική μου οπτική.']\n"
     ]
    }
   ],
   "source": [
    "print(sentences[:2])"
   ],
   "metadata": {
    "collapsed": false,
    "ExecuteTime": {
     "end_time": "2024-04-06T15:12:09.024198600Z",
     "start_time": "2024-04-06T15:12:09.010248400Z"
    }
   },
   "id": "72854d023200b1a9"
  },
  {
   "cell_type": "markdown",
   "source": [
    "## Vectorizer"
   ],
   "metadata": {
    "collapsed": false
   },
   "id": "21ecb3d4e24d44cc"
  },
  {
   "cell_type": "code",
   "execution_count": 8,
   "outputs": [],
   "source": [
    "stopwords = list(set(el_stop).union(set(en_stop)))\n",
    "vectorizer_model = CountVectorizer(stop_words=stopwords, ngram_range=(1, 2))"
   ],
   "metadata": {
    "collapsed": false,
    "ExecuteTime": {
     "end_time": "2024-04-06T14:18:00.331763100Z",
     "start_time": "2024-04-06T14:18:00.323713600Z"
    }
   },
   "id": "7439fe45d00cc88c"
  },
  {
   "cell_type": "markdown",
   "source": [
    "## Evaluation metrics"
   ],
   "metadata": {
    "collapsed": false
   },
   "id": "e7ef656e20066e48"
  },
  {
   "cell_type": "code",
   "execution_count": null,
   "outputs": [],
   "source": [
    "coherence_metrics = {\n",
    "    'docs': {\n",
    "        \"coherence_npmi\": Coherence(texts=docs_corpus, topk=5, processes=1, measure='c_npmi'),\n",
    "        \"coherence_cv\": Coherence(texts=docs_corpus, topk=5, processes=1, measure='c_v'),\n",
    "        \"coherence_umass\": Coherence(texts=docs_corpus, topk=5, processes=1, measure='u_mass'),\n",
    "        \"coherence_uci\": Coherence(texts=docs_corpus, topk=5, processes=1, measure='c_uci')\n",
    "    },\n",
    "    'sentences': {\n",
    "        \"coherence_npmi\": Coherence(texts=sentences_corpus, topk=5, processes=1, measure='c_npmi'),\n",
    "        \"coherence_cv\": Coherence(texts=sentences_corpus, topk=5, processes=1, measure='c_v'),\n",
    "        \"coherence_umass\": Coherence(texts=sentences_corpus, topk=5, processes=1, measure='u_mass'),\n",
    "        \"coherence_uci\": Coherence(texts=sentences_corpus, topk=5, processes=1, measure='c_uci')\n",
    "    }\n",
    "}\n",
    "\n",
    "other_metrics = {\n",
    "    'diversity_topic': TopicDiversity(topk=5),\n",
    "    'diversity_kl': KLDivergence(),\n",
    "    'similarity_rbo': RBO(topk=5),\n",
    "    'similarity_pjs': PairwiseJaccardSimilarity(),\n",
    "    'significance_kluni': KL_uniform()\n",
    "}\n",
    "\n",
    "all_metrics = {\n",
    "    'coherence_metrics': coherence_metrics,\n",
    "    'other_metrics': other_metrics}"
   ],
   "metadata": {
    "collapsed": false
   },
   "id": "9e07f2e996d950aa"
  },
  {
   "cell_type": "markdown",
   "source": [
    "## BERTopic model initialization"
   ],
   "metadata": {
    "collapsed": false
   },
   "id": "54f81cb5a855ad4c"
  },
  {
   "cell_type": "code",
   "execution_count": null,
   "outputs": [],
   "source": [
    "model_gr_docs = BERTopic(embedding_model=embeddings_gr, \n",
    "                         vectorizer_model=vectorizer_model, \n",
    "                         nr_topics=30)\n",
    "model_gr_docs.fit_transform(docs, embeddings_gr)\n",
    "\n",
    "model_gr_media_docs = BERTopic(embedding_model=embeddings_gr_media, \n",
    "                               vectorizer_model=vectorizer_model,\n",
    "                               nr_topics=30)\n",
    "model_gr_media_docs.fit_transform(docs, embeddings_gr_media)\n",
    "\n",
    "model_gr_sentences = BERTopic(embedding_model=embeddings_gr_sentences, \n",
    "                              vectorizer_model=vectorizer_model,\n",
    "                              nr_topics=30)\n",
    "model_gr_sentences.fit_transform(sentences, embeddings_gr_sentences)\n",
    "\n",
    "model_gr_media_sentences = BERTopic(embedding_model=embeddings_gr_media_sentences, \n",
    "                                    vectorizer_model=vectorizer_model,\n",
    "                                    nr_topics=30)\n",
    "model_gr_media_sentences.fit_transform(sentences, embeddings_gr_media_sentences)"
   ],
   "metadata": {
    "collapsed": false
   },
   "id": "668a0bf70208cf66"
  },
  {
   "cell_type": "code",
   "execution_count": null,
   "outputs": [],
   "source": [
    "models = {\n",
    "    'gr_docs': model_gr_docs,\n",
    "    'gr_media_docs': model_gr_media_docs,\n",
    "    'gr_sentences': model_gr_sentences,\n",
    "    'gr_media_sentences': model_gr_media_sentences\n",
    "}"
   ],
   "metadata": {
    "collapsed": false
   },
   "id": "ae0aec878d02ed47"
  }
 ],
 "metadata": {
  "kernelspec": {
   "display_name": "Python 3",
   "language": "python",
   "name": "python3"
  },
  "language_info": {
   "codemirror_mode": {
    "name": "ipython",
    "version": 2
   },
   "file_extension": ".py",
   "mimetype": "text/x-python",
   "name": "python",
   "nbconvert_exporter": "python",
   "pygments_lexer": "ipython2",
   "version": "2.7.6"
  }
 },
 "nbformat": 4,
 "nbformat_minor": 5
}
