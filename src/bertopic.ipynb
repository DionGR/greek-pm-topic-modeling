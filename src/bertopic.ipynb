{
 "cells": [
  {
   "cell_type": "code",
   "execution_count": 8,
   "id": "initial_id",
   "metadata": {
    "collapsed": true,
    "ExecuteTime": {
     "end_time": "2024-04-08T14:29:59.539855Z",
     "start_time": "2024-04-08T14:29:59.531008400Z"
    }
   },
   "outputs": [],
   "source": [
    "import pandas as pd\n",
    "from bertopic import BERTopic\n",
    "from sentence_transformers import SentenceTransformer\n",
    "from nltk.tokenize import sent_tokenize\n",
    "from models.bertopic.utils.data_loader import DataLoader\n",
    "from sklearn.feature_extraction.text import CountVectorizer\n",
    "\n",
    "from spacy.lang.el.stop_words import STOP_WORDS as el_stop\n",
    "from spacy.lang.en.stop_words import STOP_WORDS as en_stop\n",
    "\n",
    "from octis.evaluation_metrics.coherence_metrics import Coherence\n",
    "from octis.evaluation_metrics.diversity_metrics import TopicDiversity, KLDivergence\n",
    "from octis.evaluation_metrics.similarity_metrics import RBO, PairwiseJaccardSimilarity\n",
    "from octis.evaluation_metrics.topic_significance_metrics import KL_uniform\n",
    "\n",
    "from models.bertopic.utils.bertopic_evaluator import BERTopicModelEvaluator"
   ]
  },
  {
   "cell_type": "markdown",
   "source": [
    "## Data, embeddings and sentence transformers loading"
   ],
   "metadata": {
    "collapsed": false
   },
   "id": "57ad672e88f445f4"
  },
  {
   "cell_type": "code",
   "execution_count": 12,
   "outputs": [],
   "source": [
    "# TODO: Add embeddings for multilingual sentence transformer"
   ],
   "metadata": {
    "collapsed": false,
    "ExecuteTime": {
     "end_time": "2024-04-06T14:24:39.313485400Z",
     "start_time": "2024-04-06T14:24:39.305963Z"
    }
   },
   "id": "c225c3c8d522230c"
  },
  {
   "cell_type": "code",
   "execution_count": 2,
   "outputs": [],
   "source": [
    "loader = DataLoader('data/data_speeches.csv', 'data/data_statements.csv')\n",
    "loader.process()\n",
    "\n",
    "train_docs, train_sentences = loader.get_train_data()\n",
    "\n",
    "docs_corpus = [[doc] for doc in train_docs]\n",
    "sentences_corpus = [[sentence] for sentence in train_sentences]\n",
    "\n",
    "# embeddings_gr = loader.load_embeddings(\"models/bertopic/data/checkpoint/embeddings/embeddings_gr.pkl\")\n",
    "# embeddings_gr_media = loader.load_embeddings(\"models/bertopic/data/checkpoint/embeddings/embeddings_gr_media.pkl\")\n",
    "# embeddings_gr_sentences = loader.load_embeddings(\"models/bertopic/data/checkpoint/embeddings/embeddings_gr_sentences.pkl\")\n",
    "# embeddings_gr_media_sentences = loader.load_embeddings(\"models/bertopic/data/checkpoint/embeddings/embeddings_gr_media_sentences.pkl\")\n",
    "\n",
    "# st_greek = SentenceTransformer('lighteternal/stsb-xlm-r-greek-transfer')\n",
    "# st_greek_media = SentenceTransformer('dimitriz/st-greek-media-bert-base-uncased')"
   ],
   "metadata": {
    "collapsed": false,
    "ExecuteTime": {
     "end_time": "2024-04-08T14:28:20.111719400Z",
     "start_time": "2024-04-08T14:27:49.296470400Z"
    }
   },
   "id": "c91c40a93d4d6485"
  },
  {
   "cell_type": "markdown",
   "source": [
    "## Vectorizer"
   ],
   "metadata": {
    "collapsed": false
   },
   "id": "21ecb3d4e24d44cc"
  },
  {
   "cell_type": "code",
   "execution_count": 4,
   "outputs": [],
   "source": [
    "stopwords = list(set(el_stop).union(set(en_stop)))\n",
    "vectorizer_model = CountVectorizer(stop_words=stopwords, ngram_range=(1, 2))"
   ],
   "metadata": {
    "collapsed": false,
    "ExecuteTime": {
     "end_time": "2024-04-08T14:28:34.653819100Z",
     "start_time": "2024-04-08T14:28:34.622743700Z"
    }
   },
   "id": "7439fe45d00cc88c"
  },
  {
   "cell_type": "markdown",
   "source": [
    "## Evaluation metrics"
   ],
   "metadata": {
    "collapsed": false
   },
   "id": "e7ef656e20066e48"
  },
  {
   "cell_type": "code",
   "execution_count": null,
   "outputs": [],
   "source": [
    "coherence_metrics = {\n",
    "    'docs': {\n",
    "        \"coherence_npmi\": Coherence(texts=docs_corpus, topk=5, processes=1, measure='c_npmi'),\n",
    "        \"coherence_cv\": Coherence(texts=docs_corpus, topk=5, processes=1, measure='c_v'),\n",
    "        \"coherence_umass\": Coherence(texts=docs_corpus, topk=5, processes=1, measure='u_mass'),\n",
    "        \"coherence_uci\": Coherence(texts=docs_corpus, topk=5, processes=1, measure='c_uci')\n",
    "    },\n",
    "    'sentences': {\n",
    "        \"coherence_npmi\": Coherence(texts=sentences_corpus, topk=5, processes=1, measure='c_npmi'),\n",
    "        \"coherence_cv\": Coherence(texts=sentences_corpus, topk=5, processes=1, measure='c_v'),\n",
    "        \"coherence_umass\": Coherence(texts=sentences_corpus, topk=5, processes=1, measure='u_mass'),\n",
    "        \"coherence_uci\": Coherence(texts=sentences_corpus, topk=5, processes=1, measure='c_uci')\n",
    "    }\n",
    "}\n",
    "\n",
    "other_metrics = {\n",
    "    'diversity_topic': TopicDiversity(topk=5),\n",
    "    'diversity_kl': KLDivergence(),\n",
    "    'similarity_rbo': RBO(topk=5),\n",
    "    'similarity_pjs': PairwiseJaccardSimilarity(),\n",
    "    'significance_kluni': KL_uniform()\n",
    "}\n",
    "\n",
    "all_metrics = {\n",
    "    'coherence_metrics': coherence_metrics,\n",
    "    'other_metrics': other_metrics}"
   ],
   "metadata": {
    "collapsed": false
   },
   "id": "9e07f2e996d950aa"
  },
  {
   "cell_type": "markdown",
   "source": [
    "## BERTopic model initialization"
   ],
   "metadata": {
    "collapsed": false
   },
   "id": "54f81cb5a855ad4c"
  },
  {
   "cell_type": "code",
   "execution_count": null,
   "outputs": [],
   "source": [],
   "metadata": {
    "collapsed": false
   },
   "id": "bb5bd39057b5acbb"
  },
  {
   "cell_type": "code",
   "execution_count": 15,
   "outputs": [],
   "source": [
    "model_gr_docs = BERTopic(embedding_model=st_models['gr_stsb'], \n",
    "                         vectorizer_model=vectorizer_model, \n",
    "                         nr_topics=30)\n",
    "\n",
    "model_gr_media_docs = BERTopic(embedding_model=st_models['gr_media'], \n",
    "                               vectorizer_model=vectorizer_model,\n",
    "                               nr_topics=30)\n",
    "\n",
    "model_gr_sentences = BERTopic(embedding_model=st_model['gr_stsb'], \n",
    "                              vectorizer_model=vectorizer_model,\n",
    "                              nr_topics=30)\n",
    "\n",
    "model_gr_media_sentences = BERTopic(embedding_model=st_models['gr_media'], \n",
    "                                    vectorizer_model=vectorizer_model,\n",
    "                                    nr_topics=30)\n",
    "\n",
    "model_multilingual_docs = BERTopic(embedding_model=st_models['multilingual'],\n",
    "                              vectorizer_model=vectorizer_model,\n",
    "                              nr_topics=30)\n",
    "\n",
    "model_multilingual_sentences = BERTopic(embedding_model=st_models['multilingual'],\n",
    "                                vectorizer_model=vectorizer_model,\n",
    "                                nr_topics=30)"
   ],
   "metadata": {
    "collapsed": false,
    "ExecuteTime": {
     "end_time": "2024-04-08T14:40:30.877854Z",
     "start_time": "2024-04-08T14:39:51.450970Z"
    }
   },
   "id": "668a0bf70208cf66"
  },
  {
   "cell_type": "code",
   "execution_count": null,
   "outputs": [],
   "source": [
    "models = {\n",
    "    'gr_docs': model_gr_docs,\n",
    "    'gr_media_docs': model_gr_media_docs,\n",
    "    'gr_sentences': model_gr_sentences,\n",
    "    'gr_media_sentences': model_gr_media_sentences,\n",
    "    'multilingual_docs': model_multilingual_docs,\n",
    "    'multilingual_sentences': model_multilingual_sentences\n",
    "}"
   ],
   "metadata": {
    "collapsed": false
   },
   "id": "ae0aec878d02ed47"
  },
  {
   "cell_type": "code",
   "execution_count": null,
   "outputs": [],
   "source": [
    "datasets = {\n",
    "    'docs': train_docs,\n",
    "    'sentences': train_sentences\n",
    "}"
   ],
   "metadata": {
    "collapsed": false
   },
   "id": "6beb168795e07043"
  },
  {
   "cell_type": "code",
   "execution_count": null,
   "outputs": [],
   "source": [
    "evaluator = BERTopicModelEvaluator(models, all_metrics, datasets)"
   ],
   "metadata": {
    "collapsed": false
   },
   "id": "781a74da18c554e5"
  }
 ],
 "metadata": {
  "kernelspec": {
   "display_name": "Python 3",
   "language": "python",
   "name": "python3"
  },
  "language_info": {
   "codemirror_mode": {
    "name": "ipython",
    "version": 2
   },
   "file_extension": ".py",
   "mimetype": "text/x-python",
   "name": "python",
   "nbconvert_exporter": "python",
   "pygments_lexer": "ipython2",
   "version": "2.7.6"
  }
 },
 "nbformat": 4,
 "nbformat_minor": 5
}
