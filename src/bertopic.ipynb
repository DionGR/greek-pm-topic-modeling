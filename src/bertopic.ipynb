{
 "cells": [
  {
   "cell_type": "code",
   "execution_count": null,
   "id": "initial_id",
   "metadata": {
    "ExecuteTime": {
     "end_time": "2024-04-04T16:06:12.695051100Z",
     "start_time": "2024-04-04T16:06:12.690230300Z"
    },
    "collapsed": true
   },
   "outputs": [],
   "source": [
    "import pandas as pd\n",
    "from bertopic import BERTopic\n",
    "from sentence_transformers import SentenceTransformer\n",
    "from models.bertopic.utils.bertopic_dataloader import BERTopicDataloader\n",
    "from models.bertopic.config.embeddings import st_models\n",
    "from models.bertopic.utils.st_embed_trainer import STEmbeddingTrainer\n",
    "\n",
    "from sklearn.feature_extraction.text import CountVectorizer\n",
    "\n",
    "from spacy.lang.el.stop_words import STOP_WORDS as el_stop\n",
    "from spacy.lang.en.stop_words import STOP_WORDS as en_stop"
   ]
  },
  {
   "cell_type": "code",
   "execution_count": null,
   "id": "71189185870d5037",
   "metadata": {
    "ExecuteTime": {
     "end_time": "2024-04-04T16:09:25.665550100Z",
     "start_time": "2024-04-04T16:06:14.710977900Z"
    },
    "collapsed": false
   },
   "outputs": [],
   "source": [
    "loader = BERTopicDataloader('data/data_speeches.csv', 'data/data_statements.csv')\n",
    "loader.process()\n",
    "\n",
    "dataset_docs = loader.get_docs()\n",
    "dataset_sent = loader.get_sentences()"
   ]
  },
  {
   "cell_type": "code",
   "execution_count": null,
   "id": "bdd50fa313d31fc8",
   "metadata": {
    "ExecuteTime": {
     "end_time": "2024-04-04T16:14:42.691973900Z",
     "start_time": "2024-04-04T16:14:42.689360700Z"
    },
    "collapsed": false
   },
   "outputs": [],
   "source": [
    "stopwords = list(el_stop.union(en_stop))\n",
    "n_grams = (1, 2)\n",
    "\n",
    "vectorizer_model = CountVectorizer(stop_words=stopwords, \n",
    "                                   ngram_range=n_grams)"
   ]
  },
  {
   "cell_type": "code",
   "execution_count": null,
   "id": "57016e5f",
   "metadata": {},
   "outputs": [],
   "source": [
    "st_generator_sentence = STEmbeddingTrainer(st_model_types=st_models, \n",
    "                                           dataset=dataset_docs, \n",
    "                                           save_path=\"models/bertopic/data/embeddings/\")\n",
    "\n",
    "st_generator_sentence.train_all()"
   ]
  },
  {
   "cell_type": "code",
   "execution_count": null,
   "id": "fb4f752d",
   "metadata": {},
   "outputs": [],
   "source": [
    "# load embeddings from safetensor \n",
    "embeddings = st_generator_sentence.get_embeddings()"
   ]
  },
  {
   "cell_type": "code",
   "execution_count": null,
   "id": "95ff7e09ae018aea",
   "metadata": {
    "ExecuteTime": {
     "end_time": "2024-04-04T14:11:24.165568Z",
     "start_time": "2024-04-04T14:10:23.604551600Z"
    },
    "collapsed": false
   },
   "outputs": [],
   "source": [
    "topic_model = BERTopic(embedding_model=st_models[\"gr_media\"], \n",
    "                      vectorizer_model=vectorizer_model,\n",
    "                      nr_topics=\"auto\",\n",
    "                      verbose=True)"
   ]
  },
  {
   "cell_type": "code",
   "execution_count": null,
   "id": "19108244",
   "metadata": {},
   "outputs": [],
   "source": [
    "topics, _ = topic_model.fit_transform(dataset_sent)"
   ]
  },
  {
   "cell_type": "code",
   "execution_count": null,
   "id": "a51a34a4b67545c8",
   "metadata": {
    "ExecuteTime": {
     "end_time": "2024-04-04T14:14:09.058219900Z",
     "start_time": "2024-04-04T14:14:08.931659Z"
    },
    "collapsed": false
   },
   "outputs": [],
   "source": [
    "topic_model.get_topic_info()"
   ]
  },
  {
   "cell_type": "code",
   "execution_count": null,
   "id": "14afe2b3d8856331",
   "metadata": {
    "ExecuteTime": {
     "end_time": "2024-04-04T16:15:13.593704100Z",
     "start_time": "2024-04-04T16:14:45.403178800Z"
    },
    "collapsed": false
   },
   "outputs": [],
   "source": [
    "topic_model = BERTopic(embedding_model=st_greek, \n",
    "                       vectorizer_model=vectorizer_model, \n",
    "                       nr_topics='auto')\n",
    "topics, _ = topic_model.fit_transform(docs, embeddings_gr)"
   ]
  },
  {
   "cell_type": "code",
   "execution_count": null,
   "id": "b7dc96d615e5c0a6",
   "metadata": {
    "ExecuteTime": {
     "end_time": "2024-04-04T16:15:13.636432800Z",
     "start_time": "2024-04-04T16:15:13.594214200Z"
    },
    "collapsed": false
   },
   "outputs": [],
   "source": [
    "topic_model.get_topic_info()"
   ]
  },
  {
   "cell_type": "code",
   "execution_count": null,
   "id": "abd3a75a410f73d0",
   "metadata": {
    "ExecuteTime": {
     "end_time": "2024-04-04T14:23:05.433497500Z",
     "start_time": "2024-04-04T14:15:07.469212900Z"
    },
    "collapsed": false
   },
   "outputs": [],
   "source": [
    "topic_model = BERTopic(embedding_model=st_greek, vectorizer_model=vectorizer_model)\n",
    "topics, _ = topic_model.fit_transform(sentences, embeddings_gr_sentences)"
   ]
  }
 ],
 "metadata": {
  "kernelspec": {
   "display_name": "Python 3",
   "language": "python",
   "name": "python3"
  },
  "language_info": {
   "codemirror_mode": {
    "name": "ipython",
    "version": 3
   },
   "file_extension": ".py",
   "mimetype": "text/x-python",
   "name": "python",
   "nbconvert_exporter": "python",
   "pygments_lexer": "ipython3",
   "version": "3.11.8"
  }
 },
 "nbformat": 4,
 "nbformat_minor": 5
}
