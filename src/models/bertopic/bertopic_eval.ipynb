{
 "cells": [
  {
   "cell_type": "markdown",
   "id": "288d00e0",
   "metadata": {},
   "source": [
    "# BERTopic Model Initial Evaluation"
   ]
  },
  {
   "cell_type": "markdown",
   "id": "265b8fd8",
   "metadata": {},
   "source": [
    "This notebook will be used so as to evaluate baseline BERTopic models with different styles of inputs and sentence transformers, so as to make the right pick when it comes to the final model of choice."
   ]
  },
  {
   "cell_type": "code",
   "execution_count": 1,
   "id": "initial_id",
   "metadata": {
    "ExecuteTime": {
     "end_time": "2024-04-10T00:26:16.427088600Z",
     "start_time": "2024-04-10T00:26:04.085006900Z"
    },
    "collapsed": true
   },
   "outputs": [],
   "source": [
    "from bertopic import BERTopic\n",
    "from models.bertopic.utils.data_loader import DataLoader\n",
    "from sklearn.feature_extraction.text import CountVectorizer\n",
    "\n",
    "from octis.evaluation_metrics.diversity_metrics import TopicDiversity, KLDivergence\n",
    "from octis.evaluation_metrics.similarity_metrics import RBO, PairwiseJaccardSimilarity\n",
    "from models.bertopic.utils.bertopic_evaluator import BERTopicModelEvaluator\n",
    "\n",
    "from models.bertopic.config.embeddings import st_models\n",
    "from models.bertopic.config.model import STOPWORDS, NUM_TOPICS, TOP_K\n",
    "\n",
    "from umap import UMAP"
   ]
  },
  {
   "cell_type": "markdown",
   "id": "57ad672e88f445f4",
   "metadata": {
    "collapsed": false
   },
   "source": [
    "## Data Loading"
   ]
  },
  {
   "cell_type": "code",
   "execution_count": 2,
   "id": "c91c40a93d4d6485",
   "metadata": {
    "ExecuteTime": {
     "end_time": "2024-04-10T00:26:19.882265Z",
     "start_time": "2024-04-10T00:26:16.427088600Z"
    },
    "collapsed": false
   },
   "outputs": [],
   "source": [
    "loader = DataLoader('data/data_speeches.csv', 'data/data_statements.csv')\n",
    "loader.process()\n",
    "\n",
    "train_docs, train_sentences = loader.get_train_data()\n",
    "test_docs, test_sentences = loader.get_test_data()\n",
    "val_docs, val_sentences = loader.get_val_data()"
   ]
  },
  {
   "cell_type": "markdown",
   "id": "21ecb3d4e24d44cc",
   "metadata": {
    "collapsed": false
   },
   "source": [
    "## Vectorizer and UMAP model initialization"
   ]
  },
  {
   "cell_type": "code",
   "execution_count": 3,
   "id": "7439fe45d00cc88c",
   "metadata": {
    "ExecuteTime": {
     "end_time": "2024-04-10T00:26:19.892207400Z",
     "start_time": "2024-04-10T00:26:19.887299100Z"
    },
    "collapsed": false
   },
   "outputs": [],
   "source": [
    "vectorizer_model = CountVectorizer(stop_words=STOPWORDS,\n",
    "                                   ngram_range=(1, 2))"
   ]
  },
  {
   "cell_type": "markdown",
   "id": "54f81cb5a855ad4c",
   "metadata": {
    "collapsed": false
   },
   "source": [
    "## BERTopic model initialization"
   ]
  },
  {
   "cell_type": "code",
   "execution_count": 4,
   "id": "668a0bf70208cf66",
   "metadata": {
    "ExecuteTime": {
     "end_time": "2024-04-10T00:26:19.904624400Z",
     "start_time": "2024-04-10T00:26:19.897712800Z"
    },
    "collapsed": false
   },
   "outputs": [],
   "source": [
    "model_gr_docs = BERTopic(embedding_model=st_models['gr_stsb'], \n",
    "                         vectorizer_model=vectorizer_model,\n",
    "                         nr_topics=NUM_TOPICS)\n",
    "\n",
    "model_gr_media_docs = BERTopic(embedding_model=st_models['gr_media'], \n",
    "                               vectorizer_model=vectorizer_model,\n",
    "                               n_gram_range=(1,2),\n",
    "                               nr_topics=NUM_TOPICS)\n",
    "\n",
    "model_gr_sentences = BERTopic(embedding_model=st_models['gr_stsb'], \n",
    "                              vectorizer_model=vectorizer_model,\n",
    "                              nr_topics=NUM_TOPICS)\n",
    "\n",
    "model_gr_media_sentences = BERTopic(embedding_model=st_models['gr_media'], \n",
    "                                    vectorizer_model=vectorizer_model,\n",
    "                                    nr_topics=NUM_TOPICS)\n",
    "\n",
    "model_multilingual_docs = BERTopic(embedding_model=st_models['multilingual'],\n",
    "                                   vectorizer_model=vectorizer_model,\n",
    "                                   nr_topics=NUM_TOPICS)\n",
    "\n",
    "model_multilingual_sentences = BERTopic(embedding_model=st_models['multilingual'],\n",
    "                                        vectorizer_model=vectorizer_model,\n",
    "                                        nr_topics=NUM_TOPICS)"
   ]
  },
  {
   "cell_type": "code",
   "execution_count": 5,
   "id": "9e07f2e996d950aa",
   "metadata": {
    "ExecuteTime": {
     "end_time": "2024-04-10T00:26:19.944027Z",
     "start_time": "2024-04-10T00:26:19.904624400Z"
    },
    "collapsed": false
   },
   "outputs": [],
   "source": [
    "metrics = {\n",
    "    'coherence_c_npmi': None,\n",
    "    'coherence_c_v': None,\n",
    "    'coherence_u_mass': None,\n",
    "    'coherence_c_uci': None,\n",
    "    'diversity_topic': TopicDiversity(topk=TOP_K),\n",
    "    'similarity_rbo': RBO(topk=TOP_K),\n",
    "    'similarity_pjs': PairwiseJaccardSimilarity(),\n",
    "}"
   ]
  },
  {
   "cell_type": "code",
   "execution_count": 6,
   "id": "ae0aec878d02ed47",
   "metadata": {
    "ExecuteTime": {
     "end_time": "2024-04-10T00:26:19.944027Z",
     "start_time": "2024-04-10T00:26:19.914564500Z"
    },
    "collapsed": false
   },
   "outputs": [],
   "source": [
    "models = {\n",
    "    'gr_docs': model_gr_docs,\n",
    "    'gr_media_docs': model_gr_media_docs,\n",
    "    'gr_sentences': model_gr_sentences,\n",
    "    'gr_media_sentences': model_gr_media_sentences,\n",
    "    'multilingual_docs': model_multilingual_docs,\n",
    "    'multilingual_sentences': model_multilingual_sentences\n",
    "}"
   ]
  },
  {
   "cell_type": "code",
   "execution_count": 7,
   "id": "6beb168795e07043",
   "metadata": {
    "ExecuteTime": {
     "end_time": "2024-04-10T00:26:19.944027Z",
     "start_time": "2024-04-10T00:26:19.915071100Z"
    },
    "collapsed": false
   },
   "outputs": [],
   "source": [
    "datasets = {\n",
    "    'docs': train_docs,\n",
    "    # 'sentences': train_sentences\n",
    "}"
   ]
  },
  {
   "cell_type": "code",
   "execution_count": 8,
   "id": "781a74da18c554e5",
   "metadata": {
    "ExecuteTime": {
     "end_time": "2024-04-10T00:26:19.944027Z",
     "start_time": "2024-04-10T00:26:19.920805700Z"
    },
    "collapsed": false
   },
   "outputs": [],
   "source": [
    "evaluator = BERTopicModelEvaluator(models=models, \n",
    "                                   metrics=metrics, \n",
    "                                   datasets=datasets,\n",
    "                                   topics=NUM_TOPICS)"
   ]
  },
  {
   "cell_type": "code",
   "execution_count": 9,
   "id": "c9f845349472ccf5",
   "metadata": {
    "ExecuteTime": {
     "end_time": "2024-04-10T00:31:37.311017200Z",
     "start_time": "2024-04-10T00:26:19.938019700Z"
    },
    "collapsed": false
   },
   "outputs": [
    {
     "name": "stdout",
     "output_type": "stream",
     "text": [
      "Training model:  gr_media_docs\n",
      "Model trained\n",
      "Evaluating model:  gr_media_docs\n",
      "Evaluating metric coherence_c_npmi for model gr_media_docs\n",
      "Evaluating metric coherence_c_v for model gr_media_docs\n",
      "Evaluating metric coherence_u_mass for model gr_media_docs\n",
      "Evaluating metric coherence_c_uci for model gr_media_docs\n",
      "Evaluating metric diversity_topic for model gr_media_docs\n",
      "Evaluating metric similarity_rbo for model gr_media_docs\n",
      "Evaluating metric similarity_pjs for model gr_media_docs\n",
      "Model gr_media_docs evaluated\n",
      "Exporting topics for model:  gr_media_docs\n"
     ]
    },
    {
     "data": {
      "text/html": [
       "<div>\n",
       "<style scoped>\n",
       "    .dataframe tbody tr th:only-of-type {\n",
       "        vertical-align: middle;\n",
       "    }\n",
       "\n",
       "    .dataframe tbody tr th {\n",
       "        vertical-align: top;\n",
       "    }\n",
       "\n",
       "    .dataframe thead th {\n",
       "        text-align: right;\n",
       "    }\n",
       "</style>\n",
       "<table border=\"1\" class=\"dataframe\">\n",
       "  <thead>\n",
       "    <tr style=\"text-align: right;\">\n",
       "      <th></th>\n",
       "      <th>model</th>\n",
       "      <th>coherence_c_npmi</th>\n",
       "      <th>coherence_c_v</th>\n",
       "      <th>coherence_u_mass</th>\n",
       "      <th>coherence_c_uci</th>\n",
       "      <th>diversity_topic</th>\n",
       "      <th>similarity_rbo</th>\n",
       "      <th>similarity_pjs</th>\n",
       "      <th>dataset</th>\n",
       "    </tr>\n",
       "  </thead>\n",
       "  <tbody>\n",
       "    <tr>\n",
       "      <th>0</th>\n",
       "      <td>gr_media_docs</td>\n",
       "      <td>0.068853</td>\n",
       "      <td>0.674748</td>\n",
       "      <td>-0.350541</td>\n",
       "      <td>-0.884317</td>\n",
       "      <td>0.689655</td>\n",
       "      <td>0.079584</td>\n",
       "      <td>0.048949</td>\n",
       "      <td>docs</td>\n",
       "    </tr>\n",
       "  </tbody>\n",
       "</table>\n",
       "</div>"
      ],
      "text/plain": [
       "           model  coherence_c_npmi  coherence_c_v  coherence_u_mass  \\\n",
       "0  gr_media_docs          0.068853       0.674748         -0.350541   \n",
       "\n",
       "   coherence_c_uci  diversity_topic  similarity_rbo  similarity_pjs dataset  \n",
       "0        -0.884317         0.689655        0.079584        0.048949    docs  "
      ]
     },
     "execution_count": 9,
     "metadata": {},
     "output_type": "execute_result"
    }
   ],
   "source": [
    "evaluator.evaluate()"
   ]
  }
 ],
 "metadata": {
  "kernelspec": {
   "display_name": "Python 3",
   "language": "python",
   "name": "python3"
  },
  "language_info": {
   "codemirror_mode": {
    "name": "ipython",
    "version": 3
   },
   "file_extension": ".py",
   "mimetype": "text/x-python",
   "name": "python",
   "nbconvert_exporter": "python",
   "pygments_lexer": "ipython3",
   "version": "3.11.8"
  }
 },
 "nbformat": 4,
 "nbformat_minor": 5
}
