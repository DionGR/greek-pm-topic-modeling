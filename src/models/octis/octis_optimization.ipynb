{
 "cells": [
  {
   "cell_type": "markdown",
   "metadata": {},
   "source": [
    "# OCTIS Model Hyperparameter Optimization"
   ]
  },
  {
   "cell_type": "markdown",
   "metadata": {},
   "source": [
    "In this notebook, we will pick out the best hyperparameters for the OCTIS models we will use for our final report. The optimization will be done using OCTIS' built-in optimizer, with a custom wrapper made for the purpsoe of this notebook."
   ]
  },
  {
   "cell_type": "markdown",
   "metadata": {},
   "source": [
    "## Imports & Setup"
   ]
  },
  {
   "cell_type": "code",
   "execution_count": null,
   "metadata": {},
   "outputs": [],
   "source": [
    "from utils.model_optimizer import OCTISModelOptimizer\n",
    "from config.optimization import OPTIMIZATION_RESULT_PATH, TOP_K, NUM_PROCESSES, MODEL_RUNS, search_space\n",
    "\n",
    "from octis.models.LSI import LSI\n",
    "from octis.models.NMF import NMF\n",
    "from octis.models.LDA import LDA\n",
    "from octis.models.HDP import HDP\n",
    "from octis.models.NeuralLDA import NeuralLDA\n",
    "from octis.models.ProdLDA import ProdLDA\n",
    "\n",
    "from octis.evaluation_metrics.coherence_metrics import Coherence\n",
    "from octis.evaluation_metrics.diversity_metrics import TopicDiversity\n",
    "from octis.evaluation_metrics.similarity_metrics import RBO, PairwiseJaccardSimilarity\n",
    "\n",
    "from octis.dataset.dataset import Dataset"
   ]
  },
  {
   "cell_type": "code",
   "execution_count": null,
   "metadata": {},
   "outputs": [],
   "source": [
    "try:\n",
    "    dataset = Dataset()\n",
    "    dataset.load_custom_dataset_from_folder('data/dataset')\n",
    "    corpus = dataset.get_corpus()\n",
    "    print(\"Dataset found cached - loading...\")\n",
    "except:\n",
    "    print(\"Dataset not found. Please load the dataset first.\")"
   ]
  },
  {
   "cell_type": "markdown",
   "metadata": {},
   "source": [
    "### Evaluation Metrics"
   ]
  },
  {
   "cell_type": "code",
   "execution_count": null,
   "metadata": {},
   "outputs": [],
   "source": [
    "coherence_npmi = Coherence(texts=corpus, topk=TOP_K, processes=NUM_PROCESSES, measure='c_npmi')\n",
    "coherence_cv = Coherence(texts=corpus, topk=TOP_K, processes=NUM_PROCESSES, measure='c_v')\n",
    "coherence_umass = Coherence(texts=corpus, topk=TOP_K, processes=NUM_PROCESSES, measure='u_mass')\n",
    "coherence_uci = Coherence(texts=corpus, topk=TOP_K, processes=NUM_PROCESSES, measure='c_uci')\n",
    "\n",
    "diversity_topic = TopicDiversity(topk=TOP_K)\n",
    "\n",
    "similarity_rbo = RBO(topk=TOP_K)\n",
    "similarity_pjs = PairwiseJaccardSimilarity()\n",
    "\n",
    "other_metrics = [coherence_npmi, coherence_umass, coherence_uci, diversity_topic, similarity_rbo, similarity_pjs]"
   ]
  },
  {
   "cell_type": "markdown",
   "metadata": {},
   "source": [
    "### Optimization Parameters"
   ]
  },
  {
   "cell_type": "code",
   "execution_count": null,
   "metadata": {},
   "outputs": [],
   "source": [
    "optimization_params = {\n",
    "     \"validation_metric\": coherence_cv,\n",
    "     \"other_metrics\": other_metrics, \n",
    "     \"topk\": TOP_K,\n",
    "     \"model_runs\": MODEL_RUNS,\n",
    "}"
   ]
  },
  {
   "cell_type": "markdown",
   "metadata": {},
   "source": [
    "## Model Initialization"
   ]
  },
  {
   "cell_type": "markdown",
   "metadata": {},
   "source": [
    "We will initialize the models we will use for the optimization process."
   ]
  },
  {
   "cell_type": "code",
   "execution_count": null,
   "metadata": {},
   "outputs": [],
   "source": [
    "lsi_model = LSI()\n",
    "lda_model = LDA()\n",
    "hdp_model = HDP()\n",
    "nmf_model = NMF(normalize=True)\n",
    "neural_lda_model = NeuralLDA(use_partitions=False)\n",
    "prod_lda_model = ProdLDA(use_partitions=False)"
   ]
  },
  {
   "cell_type": "markdown",
   "metadata": {},
   "source": [
    "## Model Optimization"
   ]
  },
  {
   "cell_type": "markdown",
   "metadata": {},
   "source": [
    "### Latent Semantic Indexing (LSI)"
   ]
  },
  {
   "cell_type": "code",
   "execution_count": null,
   "metadata": {},
   "outputs": [],
   "source": [
    "lsi_optimizer = OCTISModelOptimizer(model=lsi_model, \n",
    "                                    dataset=dataset,\n",
    "                                    search_space=search_space['lsi'],\n",
    "                                    save_path=OPTIMIZATION_RESULT_PATH + 'lsi/',\n",
    "                                    optimization_runs=(len(search_space['lsi'].values()) - 2) * 15,\n",
    "                                    **optimization_params)\n",
    "\n",
    "lsi_optimal_params = lsi_optimizer.optimize()\n",
    "lsi_optimal_params"
   ]
  },
  {
   "cell_type": "markdown",
   "metadata": {},
   "source": [
    "### Latent Dirichlet Allocation (LDA)"
   ]
  },
  {
   "cell_type": "code",
   "execution_count": null,
   "metadata": {},
   "outputs": [],
   "source": [
    "lda_optimizer = OCTISModelOptimizer(model=lda_model, \n",
    "                                    dataset=dataset, \n",
    "                                    search_space=search_space[\"lda\"], \n",
    "                                    save_path=OPTIMIZATION_RESULT_PATH + \"lda/\", \n",
    "                                    optimization_runs=(len(search_space[\"lda\"].values()) - 2) * 15,\n",
    "                                    **optimization_params)\n",
    "\n",
    "lda_optimal_params = lda_optimizer.optimize()\n",
    "lda_optimal_params"
   ]
  },
  {
   "cell_type": "markdown",
   "metadata": {},
   "source": [
    "### Hierarchical Dirichlet Process (HDP)"
   ]
  },
  {
   "cell_type": "code",
   "execution_count": null,
   "metadata": {},
   "outputs": [],
   "source": [
    "hdp_optimizer = OCTISModelOptimizer(model=hdp_model,\n",
    "                                    dataset=dataset,\n",
    "                                    search_space=search_space[\"hdp\"],\n",
    "                                    save_path=OPTIMIZATION_RESULT_PATH + \"hdp/\",\n",
    "                                    optimization_runs=(len(search_space[\"hdp\"].values()) - 1) * 15,\n",
    "                                    **optimization_params)\n",
    "\n",
    "hdp_optimal_params = hdp_optimizer.optimize()\n",
    "hdp_optimal_params"
   ]
  },
  {
   "cell_type": "markdown",
   "metadata": {},
   "source": [
    "### Non-Negative Matrix Factorization (NMF)"
   ]
  },
  {
   "cell_type": "code",
   "execution_count": null,
   "metadata": {},
   "outputs": [],
   "source": [
    "nmf_optimizer = OCTISModelOptimizer(model=nmf_model,\n",
    "                                    dataset=dataset,\n",
    "                                    search_space=search_space[\"nmf\"],\n",
    "                                    save_path=OPTIMIZATION_RESULT_PATH + \"nmf/\",\n",
    "                                    optimization_runs=(len(search_space[\"nmf\"].values()) - 2) * 15,\n",
    "                                    **optimization_params)\n",
    "\n",
    "nmf_optimal_params = nmf_optimizer.optimize()\n",
    "nmf_optimal_params"
   ]
  },
  {
   "cell_type": "markdown",
   "metadata": {},
   "source": [
    "### Neural LDA "
   ]
  },
  {
   "cell_type": "code",
   "execution_count": null,
   "metadata": {},
   "outputs": [],
   "source": [
    "neural_lda_optimizer = OCTISModelOptimizer(model=neural_lda_model,\n",
    "                                             dataset=dataset,\n",
    "                                             search_space=search_space[\"neural_lda\"],\n",
    "                                             save_path=OPTIMIZATION_RESULT_PATH + \"neural_lda/\",\n",
    "                                             optimization_runs=(len(search_space[\"neural_lda\"].values()) - 2) * 15,\n",
    "                                             **optimization_params)\n",
    "\n",
    "neural_lda_optimal_params = neural_lda_optimizer.optimize()\n",
    "neural_lda_optimal_params"
   ]
  },
  {
   "cell_type": "markdown",
   "metadata": {},
   "source": [
    "### ProdLDA"
   ]
  },
  {
   "cell_type": "code",
   "execution_count": null,
   "metadata": {},
   "outputs": [],
   "source": [
    "prod_lda_optimizer = OCTISModelOptimizer(model=prod_lda_model,\n",
    "                                            dataset=dataset,\n",
    "                                            search_space=search_space[\"prod_lda\"],\n",
    "                                            save_path=OPTIMIZATION_RESULT_PATH + \"prod_lda/\",\n",
    "                                            optimization_runs=(len(search_space[\"prod_lda\"].values()) - 2) * 15,\n",
    "                                            **optimization_params)\n",
    "\n",
    "prod_lda_optimal_params = prod_lda_optimizer.optimize()\n",
    "prod_lda_optimal_params"
   ]
  }
 ],
 "metadata": {
  "kernelspec": {
   "display_name": "nlp-env",
   "language": "python",
   "name": "python3"
  },
  "language_info": {
   "codemirror_mode": {
    "name": "ipython",
    "version": 3
   },
   "file_extension": ".py",
   "mimetype": "text/x-python",
   "name": "python",
   "nbconvert_exporter": "python",
   "pygments_lexer": "ipython3",
   "version": "3.11.8"
  }
 },
 "nbformat": 4,
 "nbformat_minor": 2
}
