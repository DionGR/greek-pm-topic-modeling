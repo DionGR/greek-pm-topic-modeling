{
 "cells": [
  {
   "cell_type": "markdown",
   "metadata": {},
   "source": [
    "# Dataset Loader \n",
    "\n",
    "### WARNING: Do NOT run this if the dataset is available at the data/ directory. This will replace the dataset with potentially different data."
   ]
  },
  {
   "cell_type": "code",
   "execution_count": 1,
   "metadata": {
    "ExecuteTime": {
     "end_time": "2024-03-30T12:57:52.977273Z",
     "start_time": "2024-03-30T12:57:52.897804200Z"
    },
    "collapsed": false
   },
   "outputs": [],
   "source": [
    "%load_ext autoreload\n",
    "%autoreload 2"
   ]
  },
  {
   "cell_type": "code",
   "execution_count": 2,
   "metadata": {
    "ExecuteTime": {
     "end_time": "2024-03-30T14:01:10.532088900Z",
     "start_time": "2024-03-30T14:01:10.421099900Z"
    },
    "collapsed": false
   },
   "outputs": [],
   "source": [
    "from data_loader.data_loader import GreekPMDataloader\n",
    "import pandas as pd"
   ]
  },
  {
   "cell_type": "code",
   "execution_count": 3,
   "metadata": {
    "ExecuteTime": {
     "end_time": "2024-03-30T12:58:05.136763300Z",
     "start_time": "2024-03-30T12:58:05.001569100Z"
    }
   },
   "outputs": [
    {
     "data": {
      "text/plain": [
       "['statements',\n",
       " 'speeches',\n",
       " 'letters',\n",
       " 'articles',\n",
       " 'addresses',\n",
       " 'op-eds-interviews',\n",
       " 'press-releases',\n",
       " 'press-conferences']"
      ]
     },
     "execution_count": 3,
     "metadata": {},
     "output_type": "execute_result"
    }
   ],
   "source": [
    "ds = GreekPMDataloader()\n",
    "\n",
    "data = ds.get_available_categories()\n",
    "data"
   ]
  },
  {
   "cell_type": "code",
   "execution_count": 7,
   "metadata": {
    "ExecuteTime": {
     "end_time": "2024-03-30T13:50:52.325713500Z",
     "start_time": "2024-03-30T13:50:28.049535Z"
    }
   },
   "outputs": [
    {
     "name": "stdout",
     "output_type": "stream",
     "text": [
      "Cached data found for speeches, loading CSV...\n"
     ]
    },
    {
     "name": "stderr",
     "output_type": "stream",
     "text": [
      "Fetching Links: 100%|██████████| 200/200 [03:01<00:00,  1.10it/s]\n",
      "Parsing Articles: 100%|██████████| 1197/1197 [15:13<00:00,  1.31it/s]\n"
     ]
    },
    {
     "name": "stdout",
     "output_type": "stream",
     "text": [
      "Storing statements data to ./data/data_statements.csv...\n"
     ]
    }
   ],
   "source": [
    "cats_df = ds.load_categories(\"speeches\", \"statements\")"
   ]
  }
 ],
 "metadata": {
  "kernelspec": {
   "display_name": "nlp-env",
   "language": "python",
   "name": "python3"
  },
  "language_info": {
   "codemirror_mode": {
    "name": "ipython",
    "version": 3
   },
   "file_extension": ".py",
   "mimetype": "text/x-python",
   "name": "python",
   "nbconvert_exporter": "python",
   "pygments_lexer": "ipython3",
   "version": "3.11.8"
  }
 },
 "nbformat": 4,
 "nbformat_minor": 2
}
