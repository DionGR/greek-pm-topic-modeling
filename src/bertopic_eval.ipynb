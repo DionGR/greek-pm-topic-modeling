{
 "cells": [
  {
   "cell_type": "markdown",
   "id": "288d00e0",
   "metadata": {},
   "source": [
    "# BERTopic Model Initial Evaluation"
   ]
  },
  {
   "cell_type": "markdown",
   "id": "265b8fd8",
   "metadata": {},
   "source": [
    "This notebook will be used so as to evaluate baseline BERTopic models with different styles of inputs and sentence transformers, so as to make the right pick when it comes to the final model of choice."
   ]
  },
  {
   "cell_type": "code",
   "execution_count": null,
   "id": "initial_id",
   "metadata": {
    "ExecuteTime": {
     "end_time": "2024-04-10T00:26:16.427088600Z",
     "start_time": "2024-04-10T00:26:04.085006900Z"
    },
    "collapsed": true
   },
   "outputs": [],
   "source": [
    "from bertopic import BERTopic\n",
    "from models.bertopic.utils.data_loader import DataLoader\n",
    "from sklearn.feature_extraction.text import CountVectorizer\n",
    "\n",
    "from octis.evaluation_metrics.diversity_metrics import TopicDiversity, KLDivergence\n",
    "from octis.evaluation_metrics.similarity_metrics import RBO, PairwiseJaccardSimilarity\n",
    "from models.bertopic.utils.bertopic_evaluator import BERTopicModelEvaluator\n",
    "\n",
    "from models.bertopic.config.embeddings import st_models\n",
    "from models.bertopic.config.model import STOPWORDS, NUM_TOPICS, TOP_K\n",
    "\n",
    "from umap import UMAP"
   ]
  },
  {
   "cell_type": "markdown",
   "id": "57ad672e88f445f4",
   "metadata": {
    "collapsed": false
   },
   "source": [
    "## Data Loading"
   ]
  },
  {
   "cell_type": "code",
   "execution_count": null,
   "id": "c91c40a93d4d6485",
   "metadata": {
    "ExecuteTime": {
     "end_time": "2024-04-10T00:26:19.882265Z",
     "start_time": "2024-04-10T00:26:16.427088600Z"
    },
    "collapsed": false
   },
   "outputs": [],
   "source": [
    "loader = DataLoader('data/data_speeches.csv', 'data/data_statements.csv')\n",
    "loader.process()\n",
    "\n",
    "train_docs, train_sentences = loader.get_train_data()\n",
    "test_docs, test_sentences = loader.get_test_data()\n",
    "val_docs, val_sentences = loader.get_val_data()"
   ]
  },
  {
   "cell_type": "markdown",
   "id": "21ecb3d4e24d44cc",
   "metadata": {
    "collapsed": false
   },
   "source": [
    "## Vectorizer and UMAP model initialization"
   ]
  },
  {
   "cell_type": "code",
   "execution_count": null,
   "id": "7439fe45d00cc88c",
   "metadata": {
    "ExecuteTime": {
     "end_time": "2024-04-10T00:26:19.892207400Z",
     "start_time": "2024-04-10T00:26:19.887299100Z"
    },
    "collapsed": false
   },
   "outputs": [],
   "source": [
    "vectorizer_model = CountVectorizer(stop_words=STOPWORDS,\n",
    "                                   ngram_range=(2, 2))"
   ]
  },
  {
   "cell_type": "markdown",
   "id": "54f81cb5a855ad4c",
   "metadata": {
    "collapsed": false
   },
   "source": [
    "## BERTopic model initialization"
   ]
  },
  {
   "cell_type": "code",
   "execution_count": null,
   "id": "668a0bf70208cf66",
   "metadata": {
    "ExecuteTime": {
     "end_time": "2024-04-10T00:26:19.904624400Z",
     "start_time": "2024-04-10T00:26:19.897712800Z"
    },
    "collapsed": false
   },
   "outputs": [],
   "source": [
    "# model_gr_docs = BERTopic(embedding_model=st_models['gr_stsb'], \n",
    "#                          vectorizer_model=vectorizer_model,\n",
    "#                          nr_topics=NUM_TOPICS)\n",
    "\n",
    "model_gr_media_docs = BERTopic(embedding_model=st_models['gr_media'], \n",
    "                               vectorizer_model=vectorizer_model,\n",
    "                               ngram_range=(2, 2),\n",
    "                               nr_topics=NUM_TOPICS)\n",
    "\n",
    "# model_gr_sentences = BERTopic(embedding_model=st_models['gr_stsb'], \n",
    "#                               vectorizer_model=vectorizer_model,\n",
    "#                               nr_topics=NUM_TOPICS)\n",
    "\n",
    "# model_gr_media_sentences = BERTopic(embedding_model=st_models['gr_media'], \n",
    "#                                     vectorizer_model=vectorizer_model,\n",
    "#                                     nr_topics=NUM_TOPICS)\n",
    "\n",
    "# model_multilingual_docs = BERTopic(embedding_model=st_models['multilingual'],\n",
    "#                                    vectorizer_model=vectorizer_model,\n",
    "#                                    nr_topics=NUM_TOPICS)\n",
    "\n",
    "# model_multilingual_sentences = BERTopic(embedding_model=st_models['multilingual'],\n",
    "#                                         vectorizer_model=vectorizer_model,\n",
    "#                                         nr_topics=NUM_TOPICS)"
   ]
  },
  {
   "cell_type": "code",
   "execution_count": null,
   "id": "9e07f2e996d950aa",
   "metadata": {
    "ExecuteTime": {
     "end_time": "2024-04-10T00:26:19.944027Z",
     "start_time": "2024-04-10T00:26:19.904624400Z"
    },
    "collapsed": false
   },
   "outputs": [],
   "source": [
    "metrics = {\n",
    "    'coherence_c_npmi': None,\n",
    "    'coherence_c_v': None,\n",
    "    'coherence_u_mass': None,\n",
    "    'coherence_c_uci': None,\n",
    "    'diversity_topic': TopicDiversity(topk=TOP_K),\n",
    "    'similarity_rbo': RBO(topk=TOP_K),\n",
    "    'similarity_pjs': PairwiseJaccardSimilarity(),\n",
    "}"
   ]
  },
  {
   "cell_type": "code",
   "execution_count": null,
   "id": "ae0aec878d02ed47",
   "metadata": {
    "ExecuteTime": {
     "end_time": "2024-04-10T00:26:19.944027Z",
     "start_time": "2024-04-10T00:26:19.914564500Z"
    },
    "collapsed": false
   },
   "outputs": [],
   "source": [
    "models = {\n",
    "    'gr_docs': model_gr_docs,\n",
    "    'gr_media_docs': model_gr_media_docs,\n",
    "    'gr_sentences': model_gr_sentences,\n",
    "    'gr_media_sentences': model_gr_media_sentences,\n",
    "    'multilingual_docs': model_multilingual_docs,\n",
    "    'multilingual_sentences': model_multilingual_sentences\n",
    "}"
   ]
  },
  {
   "cell_type": "code",
   "execution_count": null,
   "id": "6beb168795e07043",
   "metadata": {
    "ExecuteTime": {
     "end_time": "2024-04-10T00:26:19.944027Z",
     "start_time": "2024-04-10T00:26:19.915071100Z"
    },
    "collapsed": false
   },
   "outputs": [],
   "source": [
    "datasets = {\n",
    "    'docs': train_docs,\n",
    "    'sentences': train_sentences\n",
    "}"
   ]
  },
  {
   "cell_type": "code",
   "execution_count": 18,
   "id": "781a74da18c554e5",
   "metadata": {
    "ExecuteTime": {
     "end_time": "2024-04-10T00:26:19.944027Z",
     "start_time": "2024-04-10T00:26:19.920805700Z"
    },
    "collapsed": false
   },
   "outputs": [],
   "source": [
    "evaluator = BERTopicModelEvaluator(models=models, \n",
    "                                   metrics=metrics, \n",
    "                                   datasets=datasets,\n",
    "                                   topics=NUM_TOPICS)"
   ]
  },
  {
   "cell_type": "code",
   "execution_count": 19,
   "id": "c9f845349472ccf5",
   "metadata": {
    "ExecuteTime": {
     "end_time": "2024-04-10T00:31:37.311017200Z",
     "start_time": "2024-04-10T00:26:19.938019700Z"
    },
    "collapsed": false
   },
   "outputs": [
    {
     "name": "stdout",
     "output_type": "stream",
     "text": [
      "Training model:  gr_docs\n",
      "Model trained\n",
      "Training model:  gr_media_docs\n",
      "Model trained\n",
      "Training model:  gr_sentences\n"
     ]
    },
    {
     "name": "stderr",
     "output_type": "stream",
     "text": [
      "huggingface/tokenizers: The current process just got forked, after parallelism has already been used. Disabling parallelism to avoid deadlocks...\n",
      "To disable this warning, you can either:\n",
      "\t- Avoid using `tokenizers` before the fork if possible\n",
      "\t- Explicitly set the environment variable TOKENIZERS_PARALLELISM=(true | false)\n",
      "huggingface/tokenizers: The current process just got forked, after parallelism has already been used. Disabling parallelism to avoid deadlocks...\n",
      "To disable this warning, you can either:\n",
      "\t- Avoid using `tokenizers` before the fork if possible\n",
      "\t- Explicitly set the environment variable TOKENIZERS_PARALLELISM=(true | false)\n",
      "huggingface/tokenizers: The current process just got forked, after parallelism has already been used. Disabling parallelism to avoid deadlocks...\n",
      "To disable this warning, you can either:\n",
      "\t- Avoid using `tokenizers` before the fork if possible\n",
      "\t- Explicitly set the environment variable TOKENIZERS_PARALLELISM=(true | false)\n",
      "huggingface/tokenizers: The current process just got forked, after parallelism has already been used. Disabling parallelism to avoid deadlocks...\n",
      "To disable this warning, you can either:\n",
      "\t- Avoid using `tokenizers` before the fork if possible\n",
      "\t- Explicitly set the environment variable TOKENIZERS_PARALLELISM=(true | false)\n"
     ]
    },
    {
     "name": "stdout",
     "output_type": "stream",
     "text": [
      "Model trained\n",
      "Training model:  gr_media_sentences\n"
     ]
    },
    {
     "name": "stderr",
     "output_type": "stream",
     "text": [
      "huggingface/tokenizers: The current process just got forked, after parallelism has already been used. Disabling parallelism to avoid deadlocks...\n",
      "To disable this warning, you can either:\n",
      "\t- Avoid using `tokenizers` before the fork if possible\n",
      "\t- Explicitly set the environment variable TOKENIZERS_PARALLELISM=(true | false)\n",
      "huggingface/tokenizers: The current process just got forked, after parallelism has already been used. Disabling parallelism to avoid deadlocks...\n",
      "To disable this warning, you can either:\n",
      "\t- Avoid using `tokenizers` before the fork if possible\n",
      "\t- Explicitly set the environment variable TOKENIZERS_PARALLELISM=(true | false)\n",
      "huggingface/tokenizers: The current process just got forked, after parallelism has already been used. Disabling parallelism to avoid deadlocks...\n",
      "To disable this warning, you can either:\n",
      "\t- Avoid using `tokenizers` before the fork if possible\n",
      "\t- Explicitly set the environment variable TOKENIZERS_PARALLELISM=(true | false)\n",
      "huggingface/tokenizers: The current process just got forked, after parallelism has already been used. Disabling parallelism to avoid deadlocks...\n",
      "To disable this warning, you can either:\n",
      "\t- Avoid using `tokenizers` before the fork if possible\n",
      "\t- Explicitly set the environment variable TOKENIZERS_PARALLELISM=(true | false)\n"
     ]
    },
    {
     "name": "stdout",
     "output_type": "stream",
     "text": [
      "Model trained\n",
      "Training model:  multilingual_docs\n",
      "Model trained\n",
      "Training model:  multilingual_sentences\n"
     ]
    },
    {
     "name": "stderr",
     "output_type": "stream",
     "text": [
      "huggingface/tokenizers: The current process just got forked, after parallelism has already been used. Disabling parallelism to avoid deadlocks...\n",
      "To disable this warning, you can either:\n",
      "\t- Avoid using `tokenizers` before the fork if possible\n",
      "\t- Explicitly set the environment variable TOKENIZERS_PARALLELISM=(true | false)\n",
      "huggingface/tokenizers: The current process just got forked, after parallelism has already been used. Disabling parallelism to avoid deadlocks...\n",
      "To disable this warning, you can either:\n",
      "\t- Avoid using `tokenizers` before the fork if possible\n",
      "\t- Explicitly set the environment variable TOKENIZERS_PARALLELISM=(true | false)\n",
      "huggingface/tokenizers: The current process just got forked, after parallelism has already been used. Disabling parallelism to avoid deadlocks...\n",
      "To disable this warning, you can either:\n",
      "\t- Avoid using `tokenizers` before the fork if possible\n",
      "\t- Explicitly set the environment variable TOKENIZERS_PARALLELISM=(true | false)\n",
      "huggingface/tokenizers: The current process just got forked, after parallelism has already been used. Disabling parallelism to avoid deadlocks...\n",
      "To disable this warning, you can either:\n",
      "\t- Avoid using `tokenizers` before the fork if possible\n",
      "\t- Explicitly set the environment variable TOKENIZERS_PARALLELISM=(true | false)\n"
     ]
    },
    {
     "name": "stdout",
     "output_type": "stream",
     "text": [
      "Model trained\n",
      "Evaluating model:  gr_docs\n",
      "Evaluating metric coherence_c_npmi for model gr_docs\n",
      "Evaluating metric coherence_c_v for model gr_docs\n",
      "Evaluating metric coherence_u_mass for model gr_docs\n",
      "Evaluating metric coherence_c_uci for model gr_docs\n",
      "Evaluating metric diversity_topic for model gr_docs\n",
      "Evaluating metric similarity_rbo for model gr_docs\n",
      "Evaluating metric similarity_pjs for model gr_docs\n",
      "Model gr_docs evaluated\n",
      "Evaluating model:  gr_media_docs\n",
      "Evaluating metric coherence_c_npmi for model gr_media_docs\n",
      "Evaluating metric coherence_c_v for model gr_media_docs\n",
      "Evaluating metric coherence_u_mass for model gr_media_docs\n",
      "Evaluating metric coherence_c_uci for model gr_media_docs\n",
      "Evaluating metric diversity_topic for model gr_media_docs\n",
      "Evaluating metric similarity_rbo for model gr_media_docs\n",
      "Evaluating metric similarity_pjs for model gr_media_docs\n",
      "Model gr_media_docs evaluated\n",
      "Evaluating model:  gr_sentences\n",
      "Evaluating metric coherence_c_npmi for model gr_sentences\n",
      "Evaluating metric coherence_c_v for model gr_sentences\n",
      "Evaluating metric coherence_u_mass for model gr_sentences\n",
      "Evaluating metric coherence_c_uci for model gr_sentences\n",
      "Evaluating metric diversity_topic for model gr_sentences\n",
      "Evaluating metric similarity_rbo for model gr_sentences\n",
      "Evaluating metric similarity_pjs for model gr_sentences\n",
      "Model gr_sentences evaluated\n",
      "Evaluating model:  gr_media_sentences\n",
      "Evaluating metric coherence_c_npmi for model gr_media_sentences\n",
      "Evaluating metric coherence_c_v for model gr_media_sentences\n",
      "Evaluating metric coherence_u_mass for model gr_media_sentences\n",
      "Evaluating metric coherence_c_uci for model gr_media_sentences\n",
      "Evaluating metric diversity_topic for model gr_media_sentences\n",
      "Evaluating metric similarity_rbo for model gr_media_sentences\n",
      "Evaluating metric similarity_pjs for model gr_media_sentences\n",
      "Model gr_media_sentences evaluated\n",
      "Evaluating model:  multilingual_docs\n",
      "Evaluating metric coherence_c_npmi for model multilingual_docs\n",
      "Evaluating metric coherence_c_v for model multilingual_docs\n",
      "Evaluating metric coherence_u_mass for model multilingual_docs\n",
      "Evaluating metric coherence_c_uci for model multilingual_docs\n",
      "Evaluating metric diversity_topic for model multilingual_docs\n",
      "Evaluating metric similarity_rbo for model multilingual_docs\n",
      "Evaluating metric similarity_pjs for model multilingual_docs\n",
      "Model multilingual_docs evaluated\n",
      "Evaluating model:  multilingual_sentences\n",
      "Evaluating metric coherence_c_npmi for model multilingual_sentences\n",
      "Evaluating metric coherence_c_v for model multilingual_sentences\n",
      "Evaluating metric coherence_u_mass for model multilingual_sentences\n",
      "Evaluating metric coherence_c_uci for model multilingual_sentences\n",
      "Evaluating metric diversity_topic for model multilingual_sentences\n",
      "Evaluating metric similarity_rbo for model multilingual_sentences\n",
      "Evaluating metric similarity_pjs for model multilingual_sentences\n",
      "Model multilingual_sentences evaluated\n",
      "Exporting topics for model:  gr_docs\n",
      "Exporting topics for model:  gr_media_docs\n",
      "Exporting topics for model:  gr_sentences\n",
      "Exporting topics for model:  gr_media_sentences\n",
      "Exporting topics for model:  multilingual_docs\n",
      "Exporting topics for model:  multilingual_sentences\n"
     ]
    },
    {
     "data": {
      "text/html": [
       "<div>\n",
       "<style scoped>\n",
       "    .dataframe tbody tr th:only-of-type {\n",
       "        vertical-align: middle;\n",
       "    }\n",
       "\n",
       "    .dataframe tbody tr th {\n",
       "        vertical-align: top;\n",
       "    }\n",
       "\n",
       "    .dataframe thead th {\n",
       "        text-align: right;\n",
       "    }\n",
       "</style>\n",
       "<table border=\"1\" class=\"dataframe\">\n",
       "  <thead>\n",
       "    <tr style=\"text-align: right;\">\n",
       "      <th></th>\n",
       "      <th>model</th>\n",
       "      <th>coherence_c_npmi</th>\n",
       "      <th>coherence_c_v</th>\n",
       "      <th>coherence_u_mass</th>\n",
       "      <th>coherence_c_uci</th>\n",
       "      <th>diversity_topic</th>\n",
       "      <th>similarity_rbo</th>\n",
       "      <th>similarity_pjs</th>\n",
       "      <th>dataset</th>\n",
       "    </tr>\n",
       "  </thead>\n",
       "  <tbody>\n",
       "    <tr>\n",
       "      <th>0</th>\n",
       "      <td>gr_docs</td>\n",
       "      <td>0.082016</td>\n",
       "      <td>0.682607</td>\n",
       "      <td>-0.275356</td>\n",
       "      <td>-0.798458</td>\n",
       "      <td>0.731034</td>\n",
       "      <td>0.055541</td>\n",
       "      <td>0.053181</td>\n",
       "      <td>docs</td>\n",
       "    </tr>\n",
       "    <tr>\n",
       "      <th>1</th>\n",
       "      <td>gr_media_docs</td>\n",
       "      <td>0.087017</td>\n",
       "      <td>0.686488</td>\n",
       "      <td>-0.374455</td>\n",
       "      <td>-0.581325</td>\n",
       "      <td>0.724138</td>\n",
       "      <td>0.077489</td>\n",
       "      <td>0.047451</td>\n",
       "      <td>docs</td>\n",
       "    </tr>\n",
       "    <tr>\n",
       "      <th>2</th>\n",
       "      <td>gr_sentences</td>\n",
       "      <td>0.103696</td>\n",
       "      <td>0.501931</td>\n",
       "      <td>-0.437374</td>\n",
       "      <td>-2.220314</td>\n",
       "      <td>0.979310</td>\n",
       "      <td>0.001059</td>\n",
       "      <td>0.001051</td>\n",
       "      <td>sentences</td>\n",
       "    </tr>\n",
       "    <tr>\n",
       "      <th>3</th>\n",
       "      <td>gr_media_sentences</td>\n",
       "      <td>0.173116</td>\n",
       "      <td>0.604086</td>\n",
       "      <td>-0.314721</td>\n",
       "      <td>-0.501189</td>\n",
       "      <td>1.000000</td>\n",
       "      <td>0.000000</td>\n",
       "      <td>0.000130</td>\n",
       "      <td>sentences</td>\n",
       "    </tr>\n",
       "    <tr>\n",
       "      <th>4</th>\n",
       "      <td>multilingual_docs</td>\n",
       "      <td>0.094314</td>\n",
       "      <td>0.702401</td>\n",
       "      <td>-0.199095</td>\n",
       "      <td>-0.653081</td>\n",
       "      <td>0.608696</td>\n",
       "      <td>0.104380</td>\n",
       "      <td>0.082085</td>\n",
       "      <td>docs</td>\n",
       "    </tr>\n",
       "    <tr>\n",
       "      <th>5</th>\n",
       "      <td>multilingual_sentences</td>\n",
       "      <td>0.142390</td>\n",
       "      <td>0.582602</td>\n",
       "      <td>-0.300966</td>\n",
       "      <td>-1.331063</td>\n",
       "      <td>0.972414</td>\n",
       "      <td>0.000803</td>\n",
       "      <td>0.001051</td>\n",
       "      <td>sentences</td>\n",
       "    </tr>\n",
       "  </tbody>\n",
       "</table>\n",
       "</div>"
      ],
      "text/plain": [
       "                    model  coherence_c_npmi  coherence_c_v  coherence_u_mass  \\\n",
       "0                 gr_docs          0.082016       0.682607         -0.275356   \n",
       "1           gr_media_docs          0.087017       0.686488         -0.374455   \n",
       "2            gr_sentences          0.103696       0.501931         -0.437374   \n",
       "3      gr_media_sentences          0.173116       0.604086         -0.314721   \n",
       "4       multilingual_docs          0.094314       0.702401         -0.199095   \n",
       "5  multilingual_sentences          0.142390       0.582602         -0.300966   \n",
       "\n",
       "   coherence_c_uci  diversity_topic  similarity_rbo  similarity_pjs    dataset  \n",
       "0        -0.798458         0.731034        0.055541        0.053181       docs  \n",
       "1        -0.581325         0.724138        0.077489        0.047451       docs  \n",
       "2        -2.220314         0.979310        0.001059        0.001051  sentences  \n",
       "3        -0.501189         1.000000        0.000000        0.000130  sentences  \n",
       "4        -0.653081         0.608696        0.104380        0.082085       docs  \n",
       "5        -1.331063         0.972414        0.000803        0.001051  sentences  "
      ]
     },
     "execution_count": 19,
     "metadata": {},
     "output_type": "execute_result"
    }
   ],
   "source": [
    "evaluator.evaluate()"
   ]
  },
  {
   "cell_type": "code",
   "execution_count": 20,
   "id": "55131bd1",
   "metadata": {},
   "outputs": [
    {
     "data": {
      "text/plain": [
       "30"
      ]
     },
     "execution_count": 20,
     "metadata": {},
     "output_type": "execute_result"
    }
   ],
   "source": [
    "evaluator.topics"
   ]
  }
 ],
 "metadata": {
  "kernelspec": {
   "display_name": "Python 3",
   "language": "python",
   "name": "python3"
  },
  "language_info": {
   "codemirror_mode": {
    "name": "ipython",
    "version": 3
   },
   "file_extension": ".py",
   "mimetype": "text/x-python",
   "name": "python",
   "nbconvert_exporter": "python",
   "pygments_lexer": "ipython3",
   "version": "3.11.8"
  }
 },
 "nbformat": 4,
 "nbformat_minor": 5
}
